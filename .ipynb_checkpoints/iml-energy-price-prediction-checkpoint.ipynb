{
 "cells": [
  {
   "cell_type": "code",
   "execution_count": 1,
   "metadata": {
    "_cell_guid": "b1076dfc-b9ad-4769-8c92-a6c4dae69d19",
    "_uuid": "8f2839f25d086af736a60e9eeb907d3b93b6e0e5",
    "cell_id": "00000-d14965a7-8daf-4e16-8638-400a04cefb3e",
    "deepnote_cell_type": "code",
    "deepnote_to_be_reexecuted": false,
    "execution": {
     "iopub.execute_input": "2020-12-10T21:50:47.655173Z",
     "iopub.status.busy": "2020-12-10T21:50:47.654293Z",
     "iopub.status.idle": "2020-12-10T21:50:49.702828Z",
     "shell.execute_reply": "2020-12-10T21:50:49.702110Z"
    },
    "execution_millis": 848,
    "execution_start": 1610664398806,
    "output_cleared": false,
    "papermill": {
     "duration": 2.086925,
     "end_time": "2020-12-10T21:50:49.702965",
     "exception": false,
     "start_time": "2020-12-10T21:50:47.616040",
     "status": "completed"
    },
    "source_hash": "f59203fa",
    "tags": []
   },
   "outputs": [
    {
     "ename": "ImportError",
     "evalue": "No module named 'xgboost'",
     "output_type": "error",
     "traceback": [
      "\u001b[0;31m---------------------------------------------------------------------------\u001b[0m",
      "\u001b[0;31mImportError\u001b[0m                               Traceback (most recent call last)",
      "\u001b[0;32m<ipython-input-1-0469361cdfee>\u001b[0m in \u001b[0;36m<module>\u001b[0;34m()\u001b[0m\n\u001b[1;32m      6\u001b[0m \u001b[0;32mimport\u001b[0m \u001b[0mpandas\u001b[0m \u001b[0;32mas\u001b[0m \u001b[0mpd\u001b[0m \u001b[0;31m# data processing, CSV file I/O (e.g. pd.read_csv)\u001b[0m\u001b[0;34m\u001b[0m\u001b[0m\n\u001b[1;32m      7\u001b[0m \u001b[0;32mimport\u001b[0m \u001b[0mmatplotlib\u001b[0m\u001b[0;34m.\u001b[0m\u001b[0mpyplot\u001b[0m \u001b[0;32mas\u001b[0m \u001b[0mplt\u001b[0m\u001b[0;34m\u001b[0m\u001b[0m\n\u001b[0;32m----> 8\u001b[0;31m \u001b[0;32mimport\u001b[0m \u001b[0mxgboost\u001b[0m \u001b[0;32mas\u001b[0m \u001b[0mxgb\u001b[0m\u001b[0;34m\u001b[0m\u001b[0m\n\u001b[0m\u001b[1;32m      9\u001b[0m \u001b[0;32mfrom\u001b[0m \u001b[0msklearn\u001b[0m \u001b[0;32mimport\u001b[0m \u001b[0mlinear_model\u001b[0m\u001b[0;34m\u001b[0m\u001b[0m\n\u001b[1;32m     10\u001b[0m \u001b[0;32mfrom\u001b[0m \u001b[0msklearn\u001b[0m\u001b[0;34m.\u001b[0m\u001b[0mmetrics\u001b[0m \u001b[0;32mimport\u001b[0m \u001b[0mmean_squared_error\u001b[0m\u001b[0;34m,\u001b[0m \u001b[0mr2_score\u001b[0m\u001b[0;34m\u001b[0m\u001b[0m\n",
      "\u001b[0;31mImportError\u001b[0m: No module named 'xgboost'"
     ]
    }
   ],
   "source": [
    "# This Python 3 environment comes with many helpful analytics libraries installed\n",
    "# It is defined by the kaggle/python Docker image: https://github.com/kaggle/docker-python\n",
    "# For example, here's several helpful packages to load\n",
    "\n",
    "import numpy as np # linear algebra\n",
    "import pandas as pd # data processing, CSV file I/O (e.g. pd.read_csv)\n",
    "import matplotlib.pyplot as plt\n",
    "import xgboost as xgb\n",
    "from sklearn import linear_model\n",
    "from sklearn.metrics import mean_squared_error, r2_score\n",
    "from sklearn.model_selection import train_test_split\n",
    "\n",
    "# Input data files are available in the read-only \"../input/\" directory\n",
    "# For example, running this (by clicking run or pressing Shift+Enter) will list all files under the input directory\n"
   ]
  },
  {
   "cell_type": "code",
   "execution_count": 3,
   "metadata": {},
   "outputs": [
    {
     "name": "stdout",
     "output_type": "stream",
     "text": [
      "\u001b[33mDEPRECATION: Python 3.5 reached the end of its life on September 13th, 2020. Please upgrade your Python as Python 3.5 is no longer maintained. pip 21.0 will drop support for Python 3.5 in January 2021. pip 21.0 will remove support for this functionality.\u001b[0m\n",
      "Collecting xgboost\n",
      "  Downloading xgboost-1.1.1-py3-none-macosx_10_13_x86_64.macosx_10_14_x86_64.macosx_10_15_x86_64.whl (1.1 MB)\n",
      "\u001b[K     |████████████████████████████████| 1.1 MB 298 kB/s eta 0:00:01\n",
      "\u001b[?25hRequirement already satisfied: scipy in /Users/pranavr/anaconda/lib/python3.5/site-packages (from xgboost) (0.19.0)\n",
      "Requirement already satisfied: numpy in /Users/pranavr/anaconda/lib/python3.5/site-packages (from xgboost) (1.13.3)\n",
      "Installing collected packages: xgboost\n",
      "Successfully installed xgboost-1.1.1\n",
      "\u001b[33mWARNING: You are using pip version 20.2.4; however, version 20.3.3 is available.\n",
      "You should consider upgrading via the '/Users/pranavr/anaconda/bin/python -m pip install --upgrade pip' command.\u001b[0m\n"
     ]
    }
   ],
   "source": [
    "!pip install xgboost"
   ]
  },
  {
   "cell_type": "code",
   "execution_count": 2,
   "metadata": {
    "cell_id": "00001-e664237c-fdf0-4111-80b0-e374439f59c7",
    "collapsed": true,
    "deepnote_cell_type": "code",
    "deepnote_to_be_reexecuted": false,
    "execution": {
     "iopub.execute_input": "2020-12-10T21:50:49.769245Z",
     "iopub.status.busy": "2020-12-10T21:50:49.768105Z",
     "iopub.status.idle": "2020-12-10T21:50:49.771475Z",
     "shell.execute_reply": "2020-12-10T21:50:49.770735Z"
    },
    "execution_millis": 2,
    "execution_start": 1610664399900,
    "output_cleared": false,
    "papermill": {
     "duration": 0.037847,
     "end_time": "2020-12-10T21:50:49.771597",
     "exception": false,
     "start_time": "2020-12-10T21:50:49.733750",
     "status": "completed"
    },
    "source_hash": "fa1433b4",
    "tags": []
   },
   "outputs": [],
   "source": [
    "pd.set_option('display.max_columns', 1000)"
   ]
  },
  {
   "cell_type": "code",
   "execution_count": 3,
   "metadata": {
    "_cell_guid": "79c7e3d0-c299-4dcb-8224-4455121ee9b0",
    "_uuid": "d629ff2d2480ee46fbb7e2d37f6b5fab8052498a",
    "cell_id": "00002-5aa0b7e4-ce1f-42be-bf3c-e4d42dea8687",
    "collapsed": true,
    "deepnote_cell_type": "code",
    "deepnote_to_be_reexecuted": false,
    "execution": {
     "iopub.execute_input": "2020-12-10T21:50:49.837897Z",
     "iopub.status.busy": "2020-12-10T21:50:49.837092Z",
     "iopub.status.idle": "2020-12-10T21:50:50.166052Z",
     "shell.execute_reply": "2020-12-10T21:50:50.165406Z"
    },
    "execution_millis": 402,
    "execution_start": 1610664407476,
    "output_cleared": false,
    "papermill": {
     "duration": 0.364731,
     "end_time": "2020-12-10T21:50:50.166209",
     "exception": false,
     "start_time": "2020-12-10T21:50:49.801478",
     "status": "completed"
    },
    "source_hash": "a5711bb1",
    "tags": []
   },
   "outputs": [],
   "source": [
    "# Loading required datasets\n",
    "energy = pd.read_csv(\"Data/energy_dataset.csv\")\n",
    "weather = pd.read_csv(\"Data/weather_features.csv\")"
   ]
  },
  {
   "cell_type": "markdown",
   "metadata": {
    "cell_id": "00003-5dcfdc1f-cb04-4fa1-9a23-d836011f882e",
    "deepnote_cell_type": "markdown",
    "tags": []
   },
   "source": [
    "Dropping all columns/features with zeros or NaNs and the TSO predictions"
   ]
  },
  {
   "cell_type": "code",
   "execution_count": 4,
   "metadata": {
    "cell_id": "00003-5376e2ab-7630-4ea8-92bb-d2ec32c0f01a",
    "collapsed": true,
    "deepnote_cell_type": "code",
    "deepnote_to_be_reexecuted": false,
    "execution_millis": 2,
    "execution_start": 1610664410183,
    "source_hash": "f6de8792",
    "tags": []
   },
   "outputs": [],
   "source": [
    "energy = energy.drop(['generation fossil coal-derived gas','generation fossil oil shale','generation fossil peat', 'generation geothermal', 'generation hydro pumped storage aggregated', 'generation marine', 'generation wind offshore', 'forecast wind offshore eday ahead','total load forecast', 'forecast solar day ahead','forecast wind onshore day ahead'], axis=1)"
   ]
  },
  {
   "cell_type": "code",
   "execution_count": null,
   "metadata": {
    "cell_id": "00005-d4c3c91e-e275-4b5c-9ebf-d88440087e0d",
    "collapsed": true,
    "deepnote_cell_type": "code",
    "tags": []
   },
   "outputs": [],
   "source": [
    "energy.describe.round(2)\n"
   ]
  },
  {
   "cell_type": "code",
   "execution_count": null,
   "metadata": {
    "cell_id": "00004-0a84f9e0-c415-4323-9fb8-fd8d7005ca5e",
    "deepnote_cell_type": "code",
    "deepnote_to_be_reexecuted": false,
    "execution_millis": 18,
    "execution_start": 1610664041192,
    "source_hash": "fecd7fce",
    "tags": []
   },
   "outputs": [
    {
     "data": {
      "application/vnd.deepnote.dataframe.v2+json": {
       "column_count": 18,
       "columns": [
        {
         "dtype": "object",
         "name": "time",
         "stats": {
          "categories": [
           {
            "count": 1,
            "name": "2015-01-01 00:00:00+01:00"
           },
           {
            "count": 1,
            "name": "2015-01-01 01:00:00+01:00"
           },
           {
            "count": 3,
            "name": "3 others"
           }
          ],
          "nan_count": 0,
          "unique_count": 5
         }
        },
        {
         "dtype": "float64",
         "name": "generation biomass",
         "stats": {
          "histogram": [
           {
            "bin_end": 430.1,
            "bin_start": 428,
            "count": 1
           },
           {
            "bin_end": 432.2,
            "bin_start": 430.1,
            "count": 0
           },
           {
            "bin_end": 434.3,
            "bin_start": 432.2,
            "count": 0
           },
           {
            "bin_end": 436.4,
            "bin_start": 434.3,
            "count": 0
           },
           {
            "bin_end": 438.5,
            "bin_start": 436.4,
            "count": 1
           },
           {
            "bin_end": 440.6,
            "bin_start": 438.5,
            "count": 0
           },
           {
            "bin_end": 442.7,
            "bin_start": 440.6,
            "count": 0
           },
           {
            "bin_end": 444.8,
            "bin_start": 442.7,
            "count": 0
           },
           {
            "bin_end": 446.9,
            "bin_start": 444.8,
            "count": 0
           },
           {
            "bin_end": 449,
            "bin_start": 446.9,
            "count": 3
           }
          ],
          "max": 449,
          "min": 428,
          "nan_count": 0,
          "unique_count": 5
         }
        },
        {
         "dtype": "float64",
         "name": "generation fossil brown coal/lignite",
         "stats": {
          "histogram": [
           {
            "bin_end": 201.2,
            "bin_start": 187,
            "count": 1
           },
           {
            "bin_end": 215.4,
            "bin_start": 201.2,
            "count": 0
           },
           {
            "bin_end": 229.6,
            "bin_start": 215.4,
            "count": 0
           },
           {
            "bin_end": 243.8,
            "bin_start": 229.6,
            "count": 0
           },
           {
            "bin_end": 258,
            "bin_start": 243.8,
            "count": 1
           },
           {
            "bin_end": 272.2,
            "bin_start": 258,
            "count": 0
           },
           {
            "bin_end": 286.4,
            "bin_start": 272.2,
            "count": 0
           },
           {
            "bin_end": 300.6,
            "bin_start": 286.4,
            "count": 0
           },
           {
            "bin_end": 314.8,
            "bin_start": 300.6,
            "count": 0
           },
           {
            "bin_end": 329,
            "bin_start": 314.8,
            "count": 3
           }
          ],
          "max": 329,
          "min": 187,
          "nan_count": 0,
          "unique_count": 5
         }
        },
        {
         "dtype": "float64",
         "name": "generation fossil gas",
         "stats": {
          "histogram": [
           {
            "bin_end": 4236.6,
            "bin_start": 4130,
            "count": 1
           },
           {
            "bin_end": 4343.2,
            "bin_start": 4236.6,
            "count": 1
           },
           {
            "bin_end": 4449.8,
            "bin_start": 4343.2,
            "count": 0
           },
           {
            "bin_end": 4556.4,
            "bin_start": 4449.8,
            "count": 0
           },
           {
            "bin_end": 4663,
            "bin_start": 4556.4,
            "count": 0
           },
           {
            "bin_end": 4769.6,
            "bin_start": 4663,
            "count": 0
           },
           {
            "bin_end": 4876.2,
            "bin_start": 4769.6,
            "count": 2
           },
           {
            "bin_end": 4982.8,
            "bin_start": 4876.2,
            "count": 0
           },
           {
            "bin_end": 5089.4,
            "bin_start": 4982.8,
            "count": 0
           },
           {
            "bin_end": 5196,
            "bin_start": 5089.4,
            "count": 1
           }
          ],
          "max": 5196,
          "min": 4130,
          "nan_count": 0,
          "unique_count": 5
         }
        },
        {
         "dtype": "float64",
         "name": "generation fossil hard coal",
         "stats": {
          "histogram": [
           {
            "bin_end": 3938.1,
            "bin_start": 3840,
            "count": 1
           },
           {
            "bin_end": 4036.2,
            "bin_start": 3938.1,
            "count": 0
           },
           {
            "bin_end": 4134.3,
            "bin_start": 4036.2,
            "count": 1
           },
           {
            "bin_end": 4232.4,
            "bin_start": 4134.3,
            "count": 0
           },
           {
            "bin_end": 4330.5,
            "bin_start": 4232.4,
            "count": 0
           },
           {
            "bin_end": 4428.6,
            "bin_start": 4330.5,
            "count": 0
           },
           {
            "bin_end": 4526.7,
            "bin_start": 4428.6,
            "count": 0
           },
           {
            "bin_end": 4624.8,
            "bin_start": 4526.7,
            "count": 1
           },
           {
            "bin_end": 4722.9,
            "bin_start": 4624.8,
            "count": 0
           },
           {
            "bin_end": 4821,
            "bin_start": 4722.9,
            "count": 2
           }
          ],
          "max": 4821,
          "min": 3840,
          "nan_count": 0,
          "unique_count": 5
         }
        },
        {
         "dtype": "float64",
         "name": "generation fossil oil",
         "stats": {
          "histogram": [
           {
            "bin_end": 156.6,
            "bin_start": 156,
            "count": 1
           },
           {
            "bin_end": 157.2,
            "bin_start": 156.6,
            "count": 1
           },
           {
            "bin_end": 157.8,
            "bin_start": 157.2,
            "count": 0
           },
           {
            "bin_end": 158.4,
            "bin_start": 157.8,
            "count": 1
           },
           {
            "bin_end": 159,
            "bin_start": 158.4,
            "count": 0
           },
           {
            "bin_end": 159.6,
            "bin_start": 159,
            "count": 0
           },
           {
            "bin_end": 160.2,
            "bin_start": 159.6,
            "count": 1
           },
           {
            "bin_end": 160.8,
            "bin_start": 160.2,
            "count": 0
           },
           {
            "bin_end": 161.4,
            "bin_start": 160.8,
            "count": 0
           },
           {
            "bin_end": 162,
            "bin_start": 161.4,
            "count": 1
           }
          ],
          "max": 162,
          "min": 156,
          "nan_count": 0,
          "unique_count": 5
         }
        },
        {
         "dtype": "float64",
         "name": "generation hydro pumped storage consumption",
         "stats": {
          "histogram": [
           {
            "bin_end": 959.3,
            "bin_start": 863,
            "count": 2
           },
           {
            "bin_end": 1055.6,
            "bin_start": 959.3,
            "count": 0
           },
           {
            "bin_end": 1151.9,
            "bin_start": 1055.6,
            "count": 0
           },
           {
            "bin_end": 1248.2,
            "bin_start": 1151.9,
            "count": 1
           },
           {
            "bin_end": 1344.5,
            "bin_start": 1248.2,
            "count": 0
           },
           {
            "bin_end": 1440.8,
            "bin_start": 1344.5,
            "count": 0
           },
           {
            "bin_end": 1537.1,
            "bin_start": 1440.8,
            "count": 1
           },
           {
            "bin_end": 1633.4,
            "bin_start": 1537.1,
            "count": 0
           },
           {
            "bin_end": 1729.6999999999998,
            "bin_start": 1633.4,
            "count": 0
           },
           {
            "bin_end": 1826,
            "bin_start": 1729.6999999999998,
            "count": 1
           }
          ],
          "max": 1826,
          "min": 863,
          "nan_count": 0,
          "unique_count": 5
         }
        },
        {
         "dtype": "float64",
         "name": "generation hydro run-of-river and poundage",
         "stats": {
          "histogram": [
           {
            "bin_end": 959.2,
            "bin_start": 949,
            "count": 2
           },
           {
            "bin_end": 969.4,
            "bin_start": 959.2,
            "count": 0
           },
           {
            "bin_end": 979.6,
            "bin_start": 969.4,
            "count": 1
           },
           {
            "bin_end": 989.8,
            "bin_start": 979.6,
            "count": 0
           },
           {
            "bin_end": 1000,
            "bin_start": 989.8,
            "count": 0
           },
           {
            "bin_end": 1010.2,
            "bin_start": 1000,
            "count": 1
           },
           {
            "bin_end": 1020.4,
            "bin_start": 1010.2,
            "count": 0
           },
           {
            "bin_end": 1030.6,
            "bin_start": 1020.4,
            "count": 0
           },
           {
            "bin_end": 1040.8,
            "bin_start": 1030.6,
            "count": 0
           },
           {
            "bin_end": 1051,
            "bin_start": 1040.8,
            "count": 1
           }
          ],
          "max": 1051,
          "min": 949,
          "nan_count": 0,
          "unique_count": 5
         }
        },
        {
         "dtype": "float64",
         "name": "generation hydro water reservoir",
         "stats": {
          "histogram": [
           {
            "bin_end": 837.9,
            "bin_start": 720,
            "count": 2
           },
           {
            "bin_end": 955.8,
            "bin_start": 837.9,
            "count": 0
           },
           {
            "bin_end": 1073.7,
            "bin_start": 955.8,
            "count": 0
           },
           {
            "bin_end": 1191.6,
            "bin_start": 1073.7,
            "count": 0
           },
           {
            "bin_end": 1309.5,
            "bin_start": 1191.6,
            "count": 0
           },
           {
            "bin_end": 1427.4,
            "bin_start": 1309.5,
            "count": 1
           },
           {
            "bin_end": 1545.3000000000002,
            "bin_start": 1427.4,
            "count": 0
           },
           {
            "bin_end": 1663.2,
            "bin_start": 1545.3000000000002,
            "count": 1
           },
           {
            "bin_end": 1781.1000000000001,
            "bin_start": 1663.2,
            "count": 0
           },
           {
            "bin_end": 1899,
            "bin_start": 1781.1000000000001,
            "count": 1
           }
          ],
          "max": 1899,
          "min": 720,
          "nan_count": 0,
          "unique_count": 5
         }
        },
        {
         "dtype": "float64",
         "name": "generation nuclear",
         "stats": {
          "histogram": [
           {
            "bin_end": 7096.3,
            "bin_start": 7096,
            "count": 2
           },
           {
            "bin_end": 7096.6,
            "bin_start": 7096.3,
            "count": 0
           },
           {
            "bin_end": 7096.9,
            "bin_start": 7096.6,
            "count": 0
           },
           {
            "bin_end": 7097.2,
            "bin_start": 7096.9,
            "count": 1
           },
           {
            "bin_end": 7097.5,
            "bin_start": 7097.2,
            "count": 0
           },
           {
            "bin_end": 7097.8,
            "bin_start": 7097.5,
            "count": 0
           },
           {
            "bin_end": 7098.1,
            "bin_start": 7097.8,
            "count": 1
           },
           {
            "bin_end": 7098.4,
            "bin_start": 7098.1,
            "count": 0
           },
           {
            "bin_end": 7098.7,
            "bin_start": 7098.4,
            "count": 0
           },
           {
            "bin_end": 7099,
            "bin_start": 7098.7,
            "count": 1
           }
          ],
          "max": 7099,
          "min": 7096,
          "nan_count": 0,
          "unique_count": 4
         }
        },
        {
         "dtype": "float64",
         "name": "generation other",
         "stats": {
          "histogram": [
           {
            "bin_end": 42.6,
            "bin_start": 42.5,
            "count": 0
           },
           {
            "bin_end": 42.7,
            "bin_start": 42.6,
            "count": 0
           },
           {
            "bin_end": 42.8,
            "bin_start": 42.7,
            "count": 0
           },
           {
            "bin_end": 42.9,
            "bin_start": 42.8,
            "count": 0
           },
           {
            "bin_end": 43,
            "bin_start": 42.9,
            "count": 0
           },
           {
            "bin_end": 43.1,
            "bin_start": 43,
            "count": 5
           },
           {
            "bin_end": 43.2,
            "bin_start": 43.1,
            "count": 0
           },
           {
            "bin_end": 43.3,
            "bin_start": 43.2,
            "count": 0
           },
           {
            "bin_end": 43.4,
            "bin_start": 43.3,
            "count": 0
           },
           {
            "bin_end": 43.5,
            "bin_start": 43.4,
            "count": 0
           }
          ],
          "max": 43,
          "min": 43,
          "nan_count": 0,
          "unique_count": 1
         }
        },
        {
         "dtype": "float64",
         "name": "generation other renewable",
         "stats": {
          "histogram": [
           {
            "bin_end": 71.4,
            "bin_start": 71,
            "count": 1
           },
           {
            "bin_end": 71.8,
            "bin_start": 71.4,
            "count": 0
           },
           {
            "bin_end": 72.2,
            "bin_start": 71.8,
            "count": 0
           },
           {
            "bin_end": 72.6,
            "bin_start": 72.2,
            "count": 0
           },
           {
            "bin_end": 73,
            "bin_start": 72.6,
            "count": 0
           },
           {
            "bin_end": 73.4,
            "bin_start": 73,
            "count": 2
           },
           {
            "bin_end": 73.8,
            "bin_start": 73.4,
            "count": 0
           },
           {
            "bin_end": 74.2,
            "bin_start": 73.8,
            "count": 1
           },
           {
            "bin_end": 74.6,
            "bin_start": 74.2,
            "count": 0
           },
           {
            "bin_end": 75,
            "bin_start": 74.6,
            "count": 1
           }
          ],
          "max": 75,
          "min": 71,
          "nan_count": 0,
          "unique_count": 4
         }
        },
        {
         "dtype": "float64",
         "name": "generation solar",
         "stats": {
          "histogram": [
           {
            "bin_end": 42.8,
            "bin_start": 42,
            "count": 1
           },
           {
            "bin_end": 43.6,
            "bin_start": 42.8,
            "count": 0
           },
           {
            "bin_end": 44.4,
            "bin_start": 43.6,
            "count": 0
           },
           {
            "bin_end": 45.2,
            "bin_start": 44.4,
            "count": 0
           },
           {
            "bin_end": 46,
            "bin_start": 45.2,
            "count": 0
           },
           {
            "bin_end": 46.8,
            "bin_start": 46,
            "count": 0
           },
           {
            "bin_end": 47.6,
            "bin_start": 46.8,
            "count": 0
           },
           {
            "bin_end": 48.4,
            "bin_start": 47.6,
            "count": 0
           },
           {
            "bin_end": 49.2,
            "bin_start": 48.4,
            "count": 1
           },
           {
            "bin_end": 50,
            "bin_start": 49.2,
            "count": 3
           }
          ],
          "max": 50,
          "min": 42,
          "nan_count": 0,
          "unique_count": 3
         }
        },
        {
         "dtype": "float64",
         "name": "generation waste",
         "stats": {
          "histogram": [
           {
            "bin_end": 189.7,
            "bin_start": 189,
            "count": 1
           },
           {
            "bin_end": 190.4,
            "bin_start": 189.7,
            "count": 0
           },
           {
            "bin_end": 191.1,
            "bin_start": 190.4,
            "count": 1
           },
           {
            "bin_end": 191.8,
            "bin_start": 191.1,
            "count": 0
           },
           {
            "bin_end": 192.5,
            "bin_start": 191.8,
            "count": 0
           },
           {
            "bin_end": 193.2,
            "bin_start": 192.5,
            "count": 0
           },
           {
            "bin_end": 193.9,
            "bin_start": 193.2,
            "count": 0
           },
           {
            "bin_end": 194.6,
            "bin_start": 193.9,
            "count": 0
           },
           {
            "bin_end": 195.3,
            "bin_start": 194.6,
            "count": 1
           },
           {
            "bin_end": 196,
            "bin_start": 195.3,
            "count": 2
           }
          ],
          "max": 196,
          "min": 189,
          "nan_count": 0,
          "unique_count": 4
         }
        },
        {
         "dtype": "float64",
         "name": "generation wind onshore",
         "stats": {
          "histogram": [
           {
            "bin_end": 5079.3,
            "bin_start": 4935,
            "count": 1
           },
           {
            "bin_end": 5223.6,
            "bin_start": 5079.3,
            "count": 0
           },
           {
            "bin_end": 5367.9,
            "bin_start": 5223.6,
            "count": 1
           },
           {
            "bin_end": 5512.2,
            "bin_start": 5367.9,
            "count": 1
           },
           {
            "bin_end": 5656.5,
            "bin_start": 5512.2,
            "count": 0
           },
           {
            "bin_end": 5800.8,
            "bin_start": 5656.5,
            "count": 0
           },
           {
            "bin_end": 5945.1,
            "bin_start": 5800.8,
            "count": 1
           },
           {
            "bin_end": 6089.4,
            "bin_start": 5945.1,
            "count": 0
           },
           {
            "bin_end": 6233.7,
            "bin_start": 6089.4,
            "count": 0
           },
           {
            "bin_end": 6378,
            "bin_start": 6233.7,
            "count": 1
           }
          ],
          "max": 6378,
          "min": 4935,
          "nan_count": 0,
          "unique_count": 5
         }
        },
        {
         "dtype": "float64",
         "name": "total load actual",
         "stats": {
          "histogram": [
           {
            "bin_end": 20776.1,
            "bin_start": 20264,
            "count": 1
           },
           {
            "bin_end": 21288.2,
            "bin_start": 20776.1,
            "count": 1
           },
           {
            "bin_end": 21800.3,
            "bin_start": 21288.2,
            "count": 0
           },
           {
            "bin_end": 22312.4,
            "bin_start": 21800.3,
            "count": 0
           },
           {
            "bin_end": 22824.5,
            "bin_start": 22312.4,
            "count": 1
           },
           {
            "bin_end": 23336.6,
            "bin_start": 22824.5,
            "count": 0
           },
           {
            "bin_end": 23848.7,
            "bin_start": 23336.6,
            "count": 0
           },
           {
            "bin_end": 24360.8,
            "bin_start": 23848.7,
            "count": 0
           },
           {
            "bin_end": 24872.9,
            "bin_start": 24360.8,
            "count": 1
           },
           {
            "bin_end": 25385,
            "bin_start": 24872.9,
            "count": 1
           }
          ],
          "max": 25385,
          "min": 20264,
          "nan_count": 0,
          "unique_count": 5
         }
        },
        {
         "dtype": "float64",
         "name": "price day ahead",
         "stats": {
          "histogram": [
           {
            "bin_end": 39.57899999999999,
            "bin_start": 38.41,
            "count": 1
           },
           {
            "bin_end": 40.748,
            "bin_start": 39.57899999999999,
            "count": 0
           },
           {
            "bin_end": 41.917,
            "bin_start": 40.748,
            "count": 0
           },
           {
            "bin_end": 43.086,
            "bin_start": 41.917,
            "count": 1
           },
           {
            "bin_end": 44.254999999999995,
            "bin_start": 43.086,
            "count": 0
           },
           {
            "bin_end": 45.424,
            "bin_start": 44.254999999999995,
            "count": 0
           },
           {
            "bin_end": 46.593,
            "bin_start": 45.424,
            "count": 0
           },
           {
            "bin_end": 47.762,
            "bin_start": 46.593,
            "count": 1
           },
           {
            "bin_end": 48.931,
            "bin_start": 47.762,
            "count": 1
           },
           {
            "bin_end": 50.1,
            "bin_start": 48.931,
            "count": 1
           }
          ],
          "max": 50.1,
          "min": 38.41,
          "nan_count": 0,
          "unique_count": 5
         }
        },
        {
         "dtype": "float64",
         "name": "price actual",
         "stats": {
          "histogram": [
           {
            "bin_end": 56.977,
            "bin_start": 56.04,
            "count": 1
           },
           {
            "bin_end": 57.914,
            "bin_start": 56.977,
            "count": 0
           },
           {
            "bin_end": 58.851,
            "bin_start": 57.914,
            "count": 0
           },
           {
            "bin_end": 59.788,
            "bin_start": 58.851,
            "count": 1
           },
           {
            "bin_end": 60.724999999999994,
            "bin_start": 59.788,
            "count": 0
           },
           {
            "bin_end": 61.662,
            "bin_start": 60.724999999999994,
            "count": 0
           },
           {
            "bin_end": 62.599,
            "bin_start": 61.662,
            "count": 0
           },
           {
            "bin_end": 63.535999999999994,
            "bin_start": 62.599,
            "count": 0
           },
           {
            "bin_end": 64.473,
            "bin_start": 63.535999999999994,
            "count": 0
           },
           {
            "bin_end": 65.41,
            "bin_start": 64.473,
            "count": 3
           }
          ],
          "max": 65.41,
          "min": 56.04,
          "nan_count": 0,
          "unique_count": 5
         }
        },
        {
         "dtype": "int64",
         "name": "_deepnote_index_column"
        }
       ],
       "row_count": 5,
       "rows_bottom": null,
       "rows_top": [
        {
         "_deepnote_index_column": 0,
         "generation biomass": 447,
         "generation fossil brown coal/lignite": 329,
         "generation fossil gas": 4844,
         "generation fossil hard coal": 4821,
         "generation fossil oil": 162,
         "generation hydro pumped storage consumption": 863,
         "generation hydro run-of-river and poundage": 1051,
         "generation hydro water reservoir": 1899,
         "generation nuclear": 7096,
         "generation other": 43,
         "generation other renewable": 73,
         "generation solar": 49,
         "generation waste": 196,
         "generation wind onshore": 6378,
         "price actual": 65.41,
         "price day ahead": 50.1,
         "time": "2015-01-01 00:00:00+01:00",
         "total load actual": 25385
        },
        {
         "_deepnote_index_column": 1,
         "generation biomass": 449,
         "generation fossil brown coal/lignite": 328,
         "generation fossil gas": 5196,
         "generation fossil hard coal": 4755,
         "generation fossil oil": 158,
         "generation hydro pumped storage consumption": 920,
         "generation hydro run-of-river and poundage": 1009,
         "generation hydro water reservoir": 1658,
         "generation nuclear": 7096,
         "generation other": 43,
         "generation other renewable": 71,
         "generation solar": 50,
         "generation waste": 195,
         "generation wind onshore": 5890,
         "price actual": 64.92,
         "price day ahead": 48.1,
         "time": "2015-01-01 01:00:00+01:00",
         "total load actual": 24382
        },
        {
         "_deepnote_index_column": 2,
         "generation biomass": 448,
         "generation fossil brown coal/lignite": 323,
         "generation fossil gas": 4857,
         "generation fossil hard coal": 4581,
         "generation fossil oil": 157,
         "generation hydro pumped storage consumption": 1164,
         "generation hydro run-of-river and poundage": 973,
         "generation hydro water reservoir": 1371,
         "generation nuclear": 7099,
         "generation other": 43,
         "generation other renewable": 73,
         "generation solar": 50,
         "generation waste": 196,
         "generation wind onshore": 5461,
         "price actual": 64.48,
         "price day ahead": 47.33,
         "time": "2015-01-01 02:00:00+01:00",
         "total load actual": 22734
        },
        {
         "_deepnote_index_column": 3,
         "generation biomass": 438,
         "generation fossil brown coal/lignite": 254,
         "generation fossil gas": 4314,
         "generation fossil hard coal": 4131,
         "generation fossil oil": 160,
         "generation hydro pumped storage consumption": 1503,
         "generation hydro run-of-river and poundage": 949,
         "generation hydro water reservoir": 779,
         "generation nuclear": 7098,
         "generation other": 43,
         "generation other renewable": 75,
         "generation solar": 50,
         "generation waste": 191,
         "generation wind onshore": 5238,
         "price actual": 59.32,
         "price day ahead": 42.27,
         "time": "2015-01-01 03:00:00+01:00",
         "total load actual": 21286
        },
        {
         "_deepnote_index_column": 4,
         "generation biomass": 428,
         "generation fossil brown coal/lignite": 187,
         "generation fossil gas": 4130,
         "generation fossil hard coal": 3840,
         "generation fossil oil": 156,
         "generation hydro pumped storage consumption": 1826,
         "generation hydro run-of-river and poundage": 953,
         "generation hydro water reservoir": 720,
         "generation nuclear": 7097,
         "generation other": 43,
         "generation other renewable": 74,
         "generation solar": 42,
         "generation waste": 189,
         "generation wind onshore": 4935,
         "price actual": 56.04,
         "price day ahead": 38.41,
         "time": "2015-01-01 04:00:00+01:00",
         "total load actual": 20264
        }
       ]
      },
      "text/html": [
       "<div>\n",
       "<style scoped>\n",
       "    .dataframe tbody tr th:only-of-type {\n",
       "        vertical-align: middle;\n",
       "    }\n",
       "\n",
       "    .dataframe tbody tr th {\n",
       "        vertical-align: top;\n",
       "    }\n",
       "\n",
       "    .dataframe thead th {\n",
       "        text-align: right;\n",
       "    }\n",
       "</style>\n",
       "<table border=\"1\" class=\"dataframe\">\n",
       "  <thead>\n",
       "    <tr style=\"text-align: right;\">\n",
       "      <th></th>\n",
       "      <th>time</th>\n",
       "      <th>generation biomass</th>\n",
       "      <th>generation fossil brown coal/lignite</th>\n",
       "      <th>generation fossil gas</th>\n",
       "      <th>generation fossil hard coal</th>\n",
       "      <th>generation fossil oil</th>\n",
       "      <th>generation hydro pumped storage consumption</th>\n",
       "      <th>generation hydro run-of-river and poundage</th>\n",
       "      <th>generation hydro water reservoir</th>\n",
       "      <th>generation nuclear</th>\n",
       "      <th>generation other</th>\n",
       "      <th>generation other renewable</th>\n",
       "      <th>generation solar</th>\n",
       "      <th>generation waste</th>\n",
       "      <th>generation wind onshore</th>\n",
       "      <th>total load actual</th>\n",
       "      <th>price day ahead</th>\n",
       "      <th>price actual</th>\n",
       "    </tr>\n",
       "  </thead>\n",
       "  <tbody>\n",
       "    <tr>\n",
       "      <th>0</th>\n",
       "      <td>2015-01-01 00:00:00+01:00</td>\n",
       "      <td>447.0</td>\n",
       "      <td>329.0</td>\n",
       "      <td>4844.0</td>\n",
       "      <td>4821.0</td>\n",
       "      <td>162.0</td>\n",
       "      <td>863.0</td>\n",
       "      <td>1051.0</td>\n",
       "      <td>1899.0</td>\n",
       "      <td>7096.0</td>\n",
       "      <td>43.0</td>\n",
       "      <td>73.0</td>\n",
       "      <td>49.0</td>\n",
       "      <td>196.0</td>\n",
       "      <td>6378.0</td>\n",
       "      <td>25385.0</td>\n",
       "      <td>50.10</td>\n",
       "      <td>65.41</td>\n",
       "    </tr>\n",
       "    <tr>\n",
       "      <th>1</th>\n",
       "      <td>2015-01-01 01:00:00+01:00</td>\n",
       "      <td>449.0</td>\n",
       "      <td>328.0</td>\n",
       "      <td>5196.0</td>\n",
       "      <td>4755.0</td>\n",
       "      <td>158.0</td>\n",
       "      <td>920.0</td>\n",
       "      <td>1009.0</td>\n",
       "      <td>1658.0</td>\n",
       "      <td>7096.0</td>\n",
       "      <td>43.0</td>\n",
       "      <td>71.0</td>\n",
       "      <td>50.0</td>\n",
       "      <td>195.0</td>\n",
       "      <td>5890.0</td>\n",
       "      <td>24382.0</td>\n",
       "      <td>48.10</td>\n",
       "      <td>64.92</td>\n",
       "    </tr>\n",
       "    <tr>\n",
       "      <th>2</th>\n",
       "      <td>2015-01-01 02:00:00+01:00</td>\n",
       "      <td>448.0</td>\n",
       "      <td>323.0</td>\n",
       "      <td>4857.0</td>\n",
       "      <td>4581.0</td>\n",
       "      <td>157.0</td>\n",
       "      <td>1164.0</td>\n",
       "      <td>973.0</td>\n",
       "      <td>1371.0</td>\n",
       "      <td>7099.0</td>\n",
       "      <td>43.0</td>\n",
       "      <td>73.0</td>\n",
       "      <td>50.0</td>\n",
       "      <td>196.0</td>\n",
       "      <td>5461.0</td>\n",
       "      <td>22734.0</td>\n",
       "      <td>47.33</td>\n",
       "      <td>64.48</td>\n",
       "    </tr>\n",
       "    <tr>\n",
       "      <th>3</th>\n",
       "      <td>2015-01-01 03:00:00+01:00</td>\n",
       "      <td>438.0</td>\n",
       "      <td>254.0</td>\n",
       "      <td>4314.0</td>\n",
       "      <td>4131.0</td>\n",
       "      <td>160.0</td>\n",
       "      <td>1503.0</td>\n",
       "      <td>949.0</td>\n",
       "      <td>779.0</td>\n",
       "      <td>7098.0</td>\n",
       "      <td>43.0</td>\n",
       "      <td>75.0</td>\n",
       "      <td>50.0</td>\n",
       "      <td>191.0</td>\n",
       "      <td>5238.0</td>\n",
       "      <td>21286.0</td>\n",
       "      <td>42.27</td>\n",
       "      <td>59.32</td>\n",
       "    </tr>\n",
       "    <tr>\n",
       "      <th>4</th>\n",
       "      <td>2015-01-01 04:00:00+01:00</td>\n",
       "      <td>428.0</td>\n",
       "      <td>187.0</td>\n",
       "      <td>4130.0</td>\n",
       "      <td>3840.0</td>\n",
       "      <td>156.0</td>\n",
       "      <td>1826.0</td>\n",
       "      <td>953.0</td>\n",
       "      <td>720.0</td>\n",
       "      <td>7097.0</td>\n",
       "      <td>43.0</td>\n",
       "      <td>74.0</td>\n",
       "      <td>42.0</td>\n",
       "      <td>189.0</td>\n",
       "      <td>4935.0</td>\n",
       "      <td>20264.0</td>\n",
       "      <td>38.41</td>\n",
       "      <td>56.04</td>\n",
       "    </tr>\n",
       "  </tbody>\n",
       "</table>\n",
       "</div>"
      ],
      "text/plain": [
       "                        time  generation biomass  \\\n",
       "0  2015-01-01 00:00:00+01:00               447.0   \n",
       "1  2015-01-01 01:00:00+01:00               449.0   \n",
       "2  2015-01-01 02:00:00+01:00               448.0   \n",
       "3  2015-01-01 03:00:00+01:00               438.0   \n",
       "4  2015-01-01 04:00:00+01:00               428.0   \n",
       "\n",
       "   generation fossil brown coal/lignite  generation fossil gas  \\\n",
       "0                                 329.0                 4844.0   \n",
       "1                                 328.0                 5196.0   \n",
       "2                                 323.0                 4857.0   \n",
       "3                                 254.0                 4314.0   \n",
       "4                                 187.0                 4130.0   \n",
       "\n",
       "   generation fossil hard coal  generation fossil oil  \\\n",
       "0                       4821.0                  162.0   \n",
       "1                       4755.0                  158.0   \n",
       "2                       4581.0                  157.0   \n",
       "3                       4131.0                  160.0   \n",
       "4                       3840.0                  156.0   \n",
       "\n",
       "   generation hydro pumped storage consumption  \\\n",
       "0                                        863.0   \n",
       "1                                        920.0   \n",
       "2                                       1164.0   \n",
       "3                                       1503.0   \n",
       "4                                       1826.0   \n",
       "\n",
       "   generation hydro run-of-river and poundage  \\\n",
       "0                                      1051.0   \n",
       "1                                      1009.0   \n",
       "2                                       973.0   \n",
       "3                                       949.0   \n",
       "4                                       953.0   \n",
       "\n",
       "   generation hydro water reservoir  generation nuclear  generation other  \\\n",
       "0                            1899.0              7096.0              43.0   \n",
       "1                            1658.0              7096.0              43.0   \n",
       "2                            1371.0              7099.0              43.0   \n",
       "3                             779.0              7098.0              43.0   \n",
       "4                             720.0              7097.0              43.0   \n",
       "\n",
       "   generation other renewable  generation solar  generation waste  \\\n",
       "0                        73.0              49.0             196.0   \n",
       "1                        71.0              50.0             195.0   \n",
       "2                        73.0              50.0             196.0   \n",
       "3                        75.0              50.0             191.0   \n",
       "4                        74.0              42.0             189.0   \n",
       "\n",
       "   generation wind onshore  total load actual  price day ahead  price actual  \n",
       "0                   6378.0            25385.0            50.10         65.41  \n",
       "1                   5890.0            24382.0            48.10         64.92  \n",
       "2                   5461.0            22734.0            47.33         64.48  \n",
       "3                   5238.0            21286.0            42.27         59.32  \n",
       "4                   4935.0            20264.0            38.41         56.04  "
      ]
     },
     "execution_count": 8,
     "metadata": {},
     "output_type": "execute_result"
    }
   ],
   "source": [
    "energy.head()"
   ]
  },
  {
   "cell_type": "markdown",
   "metadata": {
    "cell_id": "00004-8dd78c4e-3456-4ed0-a3c1-5306f81a5b12",
    "deepnote_cell_type": "markdown",
    "output_cleared": false,
    "papermill": {
     "duration": 0.030181,
     "end_time": "2020-12-10T21:50:51.254206",
     "exception": false,
     "start_time": "2020-12-10T21:50:51.224025",
     "status": "completed"
    },
    "tags": []
   },
   "source": [
    "Stripping city names as Barcelona has trailing space in it"
   ]
  },
  {
   "cell_type": "code",
   "execution_count": null,
   "metadata": {
    "cell_id": "00005-e97d1bf2-ac99-41f4-990c-e5822f21af7e",
    "collapsed": true,
    "deepnote_cell_type": "code",
    "deepnote_to_be_reexecuted": false,
    "execution": {
     "iopub.execute_input": "2020-12-10T21:50:51.371949Z",
     "iopub.status.busy": "2020-12-10T21:50:51.371222Z",
     "iopub.status.idle": "2020-12-10T21:50:51.399661Z",
     "shell.execute_reply": "2020-12-10T21:50:51.398727Z"
    },
    "execution_millis": 15,
    "execution_start": 1610449170430,
    "output_cleared": false,
    "papermill": {
     "duration": 0.115382,
     "end_time": "2020-12-10T21:50:51.399876",
     "exception": false,
     "start_time": "2020-12-10T21:50:51.284494",
     "status": "completed"
    },
    "source_hash": "55109f9a",
    "tags": []
   },
   "outputs": [],
   "source": [
    "weather[\"city_name\"] = list(map(str.strip, weather[\"city_name\"]))"
   ]
  },
  {
   "cell_type": "markdown",
   "metadata": {
    "cell_id": "00007-6b70f39d-5de0-4162-ac82-49229d15533b",
    "deepnote_cell_type": "markdown",
    "output_cleared": false,
    "tags": []
   },
   "source": [
    "### Extracting citywise weather data"
   ]
  },
  {
   "cell_type": "markdown",
   "metadata": {
    "cell_id": "00006-f7744e87-1006-4a5e-9fe0-c21db6c6f97b",
    "deepnote_cell_type": "markdown",
    "output_cleared": false,
    "tags": []
   },
   "source": [
    "Distribute the weather dataset to 5 different tables each representing a distinct city. All further modeling and prediction happen for each city separately. "
   ]
  },
  {
   "cell_type": "code",
   "execution_count": null,
   "metadata": {
    "cell_id": "00007-dfa156c5-feb9-48f5-8696-e91b7166af0a",
    "collapsed": true,
    "deepnote_cell_type": "code",
    "deepnote_to_be_reexecuted": false,
    "execution": {
     "iopub.execute_input": "2020-12-10T21:50:51.808665Z",
     "iopub.status.busy": "2020-12-10T21:50:51.807877Z",
     "iopub.status.idle": "2020-12-10T21:50:51.852641Z",
     "shell.execute_reply": "2020-12-10T21:50:51.852053Z"
    },
    "execution_millis": 79,
    "execution_start": 1610449170470,
    "is_code_hidden": false,
    "output_cleared": false,
    "papermill": {
     "duration": 0.111219,
     "end_time": "2020-12-10T21:50:51.852765",
     "exception": false,
     "start_time": "2020-12-10T21:50:51.741546",
     "status": "completed"
    },
    "source_hash": "966bcd7b",
    "tags": []
   },
   "outputs": [],
   "source": [
    "valencia = weather.loc[weather[\"city_name\"]==\"Valencia\"]\n",
    "seville = weather.loc[weather[\"city_name\"]==\"Seville\"]\n",
    "barcelona = weather.loc[weather[\"city_name\"]==\"Barcelona\"]\n",
    "bilbao = weather.loc[weather[\"city_name\"]==\"Bilbao\"]"
   ]
  },
  {
   "cell_type": "code",
   "execution_count": null,
   "metadata": {
    "cell_id": "00011-277edeb6-6a05-482a-b5a1-81ab6ebac81b",
    "deepnote_cell_type": "code",
    "deepnote_to_be_reexecuted": false,
    "execution": {
     "iopub.execute_input": "2020-12-10T21:50:52.380311Z",
     "iopub.status.busy": "2020-12-10T21:50:52.379088Z",
     "iopub.status.idle": "2020-12-10T21:50:52.417529Z",
     "shell.execute_reply": "2020-12-10T21:50:52.416796Z"
    },
    "execution_millis": 142,
    "execution_start": 1610449170573,
    "output_cleared": false,
    "papermill": {
     "duration": 0.109653,
     "end_time": "2020-12-10T21:50:52.417651",
     "exception": false,
     "start_time": "2020-12-10T21:50:52.307998",
     "status": "completed"
    },
    "source_hash": "7b19a9d1",
    "tags": []
   },
   "outputs": [
    {
     "data": {
      "application/vnd.deepnote.dataframe.v2+json": {
       "column_count": 17,
       "columns": [
        {
         "dtype": "object",
         "name": "dt_iso",
         "stats": {
          "categories": [
           {
            "count": 4,
            "name": "2016-11-20 18:00:00+01:00"
           },
           {
            "count": 4,
            "name": "2017-01-27 13:00:00+01:00"
           },
           {
            "count": 36259,
            "name": "35062 others"
           }
          ],
          "nan_count": 0,
          "unique_count": 35064
         }
        },
        {
         "dtype": "object",
         "name": "city_name",
         "stats": {
          "categories": [
           {
            "count": 36267,
            "name": "Madrid"
           }
          ],
          "nan_count": 0,
          "unique_count": 1
         }
        },
        {
         "dtype": "float64",
         "name": "temp"
        },
        {
         "dtype": "float64",
         "name": "temp_min"
        },
        {
         "dtype": "float64",
         "name": "temp_max"
        },
        {
         "dtype": "int64",
         "name": "pressure"
        },
        {
         "dtype": "int64",
         "name": "humidity"
        },
        {
         "dtype": "int64",
         "name": "wind_speed"
        },
        {
         "dtype": "int64",
         "name": "wind_deg"
        },
        {
         "dtype": "float64",
         "name": "rain_1h"
        },
        {
         "dtype": "float64",
         "name": "rain_3h"
        },
        {
         "dtype": "float64",
         "name": "snow_3h"
        },
        {
         "dtype": "int64",
         "name": "clouds_all"
        },
        {
         "dtype": "int64",
         "name": "weather_id"
        },
        {
         "dtype": "object",
         "name": "weather_main"
        },
        {
         "dtype": "object",
         "name": "weather_description"
        },
        {
         "dtype": "object",
         "name": "weather_icon"
        },
        {
         "dtype": "int64",
         "name": "_deepnote_index_column"
        }
       ],
       "row_count": 36267,
       "rows_bottom": [
        {
         "_deepnote_index_column": 71383,
         "city_name": "Madrid",
         "clouds_all": 0,
         "dt_iso": "2018-12-30 19:00:00+01:00",
         "humidity": 87,
         "pressure": 1029,
         "rain_1h": 0,
         "rain_3h": 0,
         "snow_3h": 0,
         "temp": 283.97,
         "temp_max": 285.15,
         "temp_min": 282.15,
         "weather_description": "sky is clear",
         "weather_icon": "01n",
         "weather_id": 800,
         "weather_main": "clear",
         "wind_deg": 11,
         "wind_speed": 1
        },
        {
         "_deepnote_index_column": 71384,
         "city_name": "Madrid",
         "clouds_all": 0,
         "dt_iso": "2018-12-30 20:00:00+01:00",
         "humidity": 87,
         "pressure": 1029,
         "rain_1h": 0,
         "rain_3h": 0,
         "snow_3h": 0,
         "temp": 281.39,
         "temp_max": 284.15,
         "temp_min": 279.15,
         "weather_description": "sky is clear",
         "weather_icon": "01n",
         "weather_id": 800,
         "weather_main": "clear",
         "wind_deg": 260,
         "wind_speed": 1
        },
        {
         "_deepnote_index_column": 71385,
         "city_name": "Madrid",
         "clouds_all": 0,
         "dt_iso": "2018-12-30 21:00:00+01:00",
         "humidity": 75,
         "pressure": 1030,
         "rain_1h": 0,
         "rain_3h": 0,
         "snow_3h": 0,
         "temp": 279.67,
         "temp_max": 281.15,
         "temp_min": 278.15,
         "weather_description": "sky is clear",
         "weather_icon": "01n",
         "weather_id": 800,
         "weather_main": "clear",
         "wind_deg": 0,
         "wind_speed": 0
        },
        {
         "_deepnote_index_column": 71386,
         "city_name": "Madrid",
         "clouds_all": 0,
         "dt_iso": "2018-12-30 22:00:00+01:00",
         "humidity": 79,
         "pressure": 1030,
         "rain_1h": 0,
         "rain_3h": 0,
         "snow_3h": 0,
         "temp": 277.14,
         "temp_max": 278.15,
         "temp_min": 276.15,
         "weather_description": "sky is clear",
         "weather_icon": "01n",
         "weather_id": 800,
         "weather_main": "clear",
         "wind_deg": 360,
         "wind_speed": 1
        },
        {
         "_deepnote_index_column": 71387,
         "city_name": "Madrid",
         "clouds_all": 0,
         "dt_iso": "2018-12-30 23:00:00+01:00",
         "humidity": 74,
         "pressure": 1030,
         "rain_1h": 0,
         "rain_3h": 0,
         "snow_3h": 0,
         "temp": 275.57,
         "temp_max": 276.15,
         "temp_min": 275.15,
         "weather_description": "sky is clear",
         "weather_icon": "01n",
         "weather_id": 800,
         "weather_main": "clear",
         "wind_deg": 360,
         "wind_speed": 2
        },
        {
         "_deepnote_index_column": 71388,
         "city_name": "Madrid",
         "clouds_all": 0,
         "dt_iso": "2018-12-31 00:00:00+01:00",
         "humidity": 74,
         "pressure": 1030,
         "rain_1h": 0,
         "rain_3h": 0,
         "snow_3h": 0,
         "temp": 274.15,
         "temp_max": 274.15,
         "temp_min": 274.15,
         "weather_description": "sky is clear",
         "weather_icon": "01n",
         "weather_id": 800,
         "weather_main": "clear",
         "wind_deg": 330,
         "wind_speed": 1
        },
        {
         "_deepnote_index_column": 71389,
         "city_name": "Madrid",
         "clouds_all": 0,
         "dt_iso": "2018-12-31 01:00:00+01:00",
         "humidity": 74,
         "pressure": 1031,
         "rain_1h": 0,
         "rain_3h": 0,
         "snow_3h": 0,
         "temp": 274.15,
         "temp_max": 274.15,
         "temp_min": 274.15,
         "weather_description": "sky is clear",
         "weather_icon": "01n",
         "weather_id": 800,
         "weather_main": "clear",
         "wind_deg": 350,
         "wind_speed": 1
        },
        {
         "_deepnote_index_column": 71390,
         "city_name": "Madrid",
         "clouds_all": 0,
         "dt_iso": "2018-12-31 02:00:00+01:00",
         "humidity": 79,
         "pressure": 1031,
         "rain_1h": 0,
         "rain_3h": 0,
         "snow_3h": 0,
         "temp": 273.15,
         "temp_max": 273.15,
         "temp_min": 273.15,
         "weather_description": "sky is clear",
         "weather_icon": "01n",
         "weather_id": 800,
         "weather_main": "clear",
         "wind_deg": 350,
         "wind_speed": 1
        },
        {
         "_deepnote_index_column": 71391,
         "city_name": "Madrid",
         "clouds_all": 0,
         "dt_iso": "2018-12-31 03:00:00+01:00",
         "humidity": 86,
         "pressure": 1031,
         "rain_1h": 0,
         "rain_3h": 0,
         "snow_3h": 0,
         "temp": 271.58,
         "temp_max": 272.15,
         "temp_min": 271.15,
         "weather_description": "sky is clear",
         "weather_icon": "01n",
         "weather_id": 800,
         "weather_main": "clear",
         "wind_deg": 320,
         "wind_speed": 2
        },
        {
         "_deepnote_index_column": 71392,
         "city_name": "Madrid",
         "clouds_all": 0,
         "dt_iso": "2018-12-31 04:00:00+01:00",
         "humidity": 86,
         "pressure": 1031,
         "rain_1h": 0,
         "rain_3h": 0,
         "snow_3h": 0,
         "temp": 271.72,
         "temp_max": 272.15,
         "temp_min": 271.15,
         "weather_description": "sky is clear",
         "weather_icon": "01n",
         "weather_id": 800,
         "weather_main": "clear",
         "wind_deg": 10,
         "wind_speed": 1
        },
        {
         "_deepnote_index_column": 71393,
         "city_name": "Madrid",
         "clouds_all": 0,
         "dt_iso": "2018-12-31 05:00:00+01:00",
         "humidity": 86,
         "pressure": 1031,
         "rain_1h": 0,
         "rain_3h": 0,
         "snow_3h": 0,
         "temp": 271.15,
         "temp_max": 271.15,
         "temp_min": 271.15,
         "weather_description": "sky is clear",
         "weather_icon": "01n",
         "weather_id": 800,
         "weather_main": "clear",
         "wind_deg": 0,
         "wind_speed": 0
        },
        {
         "_deepnote_index_column": 71394,
         "city_name": "Madrid",
         "clouds_all": 0,
         "dt_iso": "2018-12-31 06:00:00+01:00",
         "humidity": 86,
         "pressure": 1030,
         "rain_1h": 0,
         "rain_3h": 0,
         "snow_3h": 0,
         "temp": 270.72,
         "temp_max": 271.15,
         "temp_min": 270.15,
         "weather_description": "sky is clear",
         "weather_icon": "01n",
         "weather_id": 800,
         "weather_main": "clear",
         "wind_deg": 350,
         "wind_speed": 1
        },
        {
         "_deepnote_index_column": 71395,
         "city_name": "Madrid",
         "clouds_all": 0,
         "dt_iso": "2018-12-31 07:00:00+01:00",
         "humidity": 79,
         "pressure": 1030,
         "rain_1h": 0,
         "rain_3h": 0,
         "snow_3h": 0,
         "temp": 271.84,
         "temp_max": 273.15,
         "temp_min": 271.15,
         "weather_description": "sky is clear",
         "weather_icon": "01n",
         "weather_id": 800,
         "weather_main": "clear",
         "wind_deg": 0,
         "wind_speed": 1
        },
        {
         "_deepnote_index_column": 71396,
         "city_name": "Madrid",
         "clouds_all": 0,
         "dt_iso": "2018-12-31 08:00:00+01:00",
         "humidity": 59,
         "pressure": 1031,
         "rain_1h": 0,
         "rain_3h": 0,
         "snow_3h": 0,
         "temp": 271.88,
         "temp_max": 274.15,
         "temp_min": 270.15,
         "weather_description": "sky is clear",
         "weather_icon": "01n",
         "weather_id": 800,
         "weather_main": "clear",
         "wind_deg": 0,
         "wind_speed": 1
        },
        {
         "_deepnote_index_column": 71397,
         "city_name": "Madrid",
         "clouds_all": 0,
         "dt_iso": "2018-12-31 09:00:00+01:00",
         "humidity": 55,
         "pressure": 1031,
         "rain_1h": 0,
         "rain_3h": 0,
         "snow_3h": 0,
         "temp": 271.38,
         "temp_max": 274.15,
         "temp_min": 269.15,
         "weather_description": "sky is clear",
         "weather_icon": "01n",
         "weather_id": 800,
         "weather_main": "clear",
         "wind_deg": 0,
         "wind_speed": 0
        },
        {
         "_deepnote_index_column": 71398,
         "city_name": "Madrid",
         "clouds_all": 0,
         "dt_iso": "2018-12-31 10:00:00+01:00",
         "humidity": 55,
         "pressure": 1032,
         "rain_1h": 0,
         "rain_3h": 0,
         "snow_3h": 0,
         "temp": 274.39,
         "temp_max": 282.15,
         "temp_min": 270.15,
         "weather_description": "sky is clear",
         "weather_icon": "01d",
         "weather_id": 800,
         "weather_main": "clear",
         "wind_deg": 0,
         "wind_speed": 0
        },
        {
         "_deepnote_index_column": 71399,
         "city_name": "Madrid",
         "clouds_all": 0,
         "dt_iso": "2018-12-31 11:00:00+01:00",
         "humidity": 39,
         "pressure": 1032,
         "rain_1h": 0,
         "rain_3h": 0,
         "snow_3h": 0,
         "temp": 278.96,
         "temp_max": 288.15,
         "temp_min": 274.15,
         "weather_description": "sky is clear",
         "weather_icon": "01d",
         "weather_id": 800,
         "weather_main": "clear",
         "wind_deg": 61,
         "wind_speed": 1
        },
        {
         "_deepnote_index_column": 71400,
         "city_name": "Madrid",
         "clouds_all": 0,
         "dt_iso": "2018-12-31 12:00:00+01:00",
         "humidity": 34,
         "pressure": 1032,
         "rain_1h": 0,
         "rain_3h": 0,
         "snow_3h": 0,
         "temp": 280.98,
         "temp_max": 288.15,
         "temp_min": 277.15,
         "weather_description": "sky is clear",
         "weather_icon": "01d",
         "weather_id": 800,
         "weather_main": "clear",
         "wind_deg": 0,
         "wind_speed": 0
        },
        {
         "_deepnote_index_column": 71401,
         "city_name": "Madrid",
         "clouds_all": 0,
         "dt_iso": "2018-12-31 13:00:00+01:00",
         "humidity": 27,
         "pressure": 1031,
         "rain_1h": 0,
         "rain_3h": 0,
         "snow_3h": 0,
         "temp": 283.15,
         "temp_max": 287.15,
         "temp_min": 281.15,
         "weather_description": "sky is clear",
         "weather_icon": "01d",
         "weather_id": 800,
         "weather_main": "clear",
         "wind_deg": 0,
         "wind_speed": 1
        },
        {
         "_deepnote_index_column": 71402,
         "city_name": "Madrid",
         "clouds_all": 0,
         "dt_iso": "2018-12-31 14:00:00+01:00",
         "humidity": 24,
         "pressure": 1031,
         "rain_1h": 0,
         "rain_3h": 0,
         "snow_3h": 0,
         "temp": 285.34,
         "temp_max": 288.15,
         "temp_min": 283.15,
         "weather_description": "sky is clear",
         "weather_icon": "01d",
         "weather_id": 800,
         "weather_main": "clear",
         "wind_deg": 0,
         "wind_speed": 0
        },
        {
         "_deepnote_index_column": 71403,
         "city_name": "Madrid",
         "clouds_all": 0,
         "dt_iso": "2018-12-31 15:00:00+01:00",
         "humidity": 24,
         "pressure": 1030,
         "rain_1h": 0,
         "rain_3h": 0,
         "snow_3h": 0,
         "temp": 286.74,
         "temp_max": 288.15,
         "temp_min": 285.15,
         "weather_description": "sky is clear",
         "weather_icon": "01d",
         "weather_id": 800,
         "weather_main": "clear",
         "wind_deg": 0,
         "wind_speed": 1
        },
        {
         "_deepnote_index_column": 71404,
         "city_name": "Madrid",
         "clouds_all": 0,
         "dt_iso": "2018-12-31 16:00:00+01:00",
         "humidity": 29,
         "pressure": 1030,
         "rain_1h": 0,
         "rain_3h": 0,
         "snow_3h": 0,
         "temp": 288.12,
         "temp_max": 289.15,
         "temp_min": 287.15,
         "weather_description": "sky is clear",
         "weather_icon": "01d",
         "weather_id": 800,
         "weather_main": "clear",
         "wind_deg": 0,
         "wind_speed": 1
        },
        {
         "_deepnote_index_column": 71405,
         "city_name": "Madrid",
         "clouds_all": 0,
         "dt_iso": "2018-12-31 17:00:00+01:00",
         "humidity": 26,
         "pressure": 1030,
         "rain_1h": 0,
         "rain_3h": 0,
         "snow_3h": 0,
         "temp": 288.34,
         "temp_max": 289.15,
         "temp_min": 287.15,
         "weather_description": "sky is clear",
         "weather_icon": "01d",
         "weather_id": 800,
         "weather_main": "clear",
         "wind_deg": 210,
         "wind_speed": 1
        },
        {
         "_deepnote_index_column": 71406,
         "city_name": "Madrid",
         "clouds_all": 0,
         "dt_iso": "2018-12-31 18:00:00+01:00",
         "humidity": 30,
         "pressure": 1030,
         "rain_1h": 0,
         "rain_3h": 0,
         "snow_3h": 0,
         "temp": 287.76,
         "temp_max": 289.15,
         "temp_min": 286.15,
         "weather_description": "sky is clear",
         "weather_icon": "01d",
         "weather_id": 800,
         "weather_main": "clear",
         "wind_deg": 190,
         "wind_speed": 1
        },
        {
         "_deepnote_index_column": 71407,
         "city_name": "Madrid",
         "clouds_all": 0,
         "dt_iso": "2018-12-31 19:00:00+01:00",
         "humidity": 88,
         "pressure": 1030,
         "rain_1h": 0,
         "rain_3h": 0,
         "snow_3h": 0,
         "temp": 283.56,
         "temp_max": 285.15,
         "temp_min": 282.15,
         "weather_description": "sky is clear",
         "weather_icon": "01n",
         "weather_id": 800,
         "weather_main": "clear",
         "wind_deg": 280,
         "wind_speed": 1
        },
        {
         "_deepnote_index_column": 71408,
         "city_name": "Madrid",
         "clouds_all": 0,
         "dt_iso": "2018-12-31 20:00:00+01:00",
         "humidity": 52,
         "pressure": 1031,
         "rain_1h": 0,
         "rain_3h": 0,
         "snow_3h": 0,
         "temp": 280.12,
         "temp_max": 281.15,
         "temp_min": 278.15,
         "weather_description": "sky is clear",
         "weather_icon": "01n",
         "weather_id": 800,
         "weather_main": "clear",
         "wind_deg": 260,
         "wind_speed": 1
        },
        {
         "_deepnote_index_column": 71409,
         "city_name": "Madrid",
         "clouds_all": 0,
         "dt_iso": "2018-12-31 21:00:00+01:00",
         "humidity": 65,
         "pressure": 1030,
         "rain_1h": 0,
         "rain_3h": 0,
         "snow_3h": 0,
         "temp": 278.15,
         "temp_max": 278.15,
         "temp_min": 278.15,
         "weather_description": "sky is clear",
         "weather_icon": "01n",
         "weather_id": 800,
         "weather_main": "clear",
         "wind_deg": 340,
         "wind_speed": 1
        },
        {
         "_deepnote_index_column": 71410,
         "city_name": "Madrid",
         "clouds_all": 0,
         "dt_iso": "2018-12-31 22:00:00+01:00",
         "humidity": 69,
         "pressure": 1031,
         "rain_1h": 0,
         "rain_3h": 0,
         "snow_3h": 0,
         "temp": 276.57,
         "temp_max": 277.15,
         "temp_min": 276.15,
         "weather_description": "sky is clear",
         "weather_icon": "01n",
         "weather_id": 800,
         "weather_main": "clear",
         "wind_deg": 340,
         "wind_speed": 2
        },
        {
         "_deepnote_index_column": 71411,
         "city_name": "Madrid",
         "clouds_all": 0,
         "dt_iso": "2018-12-31 23:00:00+01:00",
         "humidity": 74,
         "pressure": 1031,
         "rain_1h": 0,
         "rain_3h": 0,
         "snow_3h": 0,
         "temp": 275.15,
         "temp_max": 275.15,
         "temp_min": 275.15,
         "weather_description": "sky is clear",
         "weather_icon": "01n",
         "weather_id": 800,
         "weather_main": "clear",
         "wind_deg": 360,
         "wind_speed": 1
        }
       ],
       "rows_top": [
        {
         "_deepnote_index_column": 35145,
         "city_name": "Madrid",
         "clouds_all": 0,
         "dt_iso": "2015-01-01 00:00:00+01:00",
         "humidity": 63,
         "pressure": 971,
         "rain_1h": 0,
         "rain_3h": 0,
         "snow_3h": 0,
         "temp": 267.325,
         "temp_max": 267.325,
         "temp_min": 267.325,
         "weather_description": "sky is clear",
         "weather_icon": "01n",
         "weather_id": 800,
         "weather_main": "clear",
         "wind_deg": 309,
         "wind_speed": 1
        },
        {
         "_deepnote_index_column": 35146,
         "city_name": "Madrid",
         "clouds_all": 0,
         "dt_iso": "2015-01-01 01:00:00+01:00",
         "humidity": 63,
         "pressure": 971,
         "rain_1h": 0,
         "rain_3h": 0,
         "snow_3h": 0,
         "temp": 267.325,
         "temp_max": 267.325,
         "temp_min": 267.325,
         "weather_description": "sky is clear",
         "weather_icon": "01n",
         "weather_id": 800,
         "weather_main": "clear",
         "wind_deg": 309,
         "wind_speed": 1
        },
        {
         "_deepnote_index_column": 35147,
         "city_name": "Madrid",
         "clouds_all": 0,
         "dt_iso": "2015-01-01 02:00:00+01:00",
         "humidity": 64,
         "pressure": 971,
         "rain_1h": 0,
         "rain_3h": 0,
         "snow_3h": 0,
         "temp": 266.186,
         "temp_max": 266.186,
         "temp_min": 266.186,
         "weather_description": "sky is clear",
         "weather_icon": "01n",
         "weather_id": 800,
         "weather_main": "clear",
         "wind_deg": 273,
         "wind_speed": 1
        },
        {
         "_deepnote_index_column": 35148,
         "city_name": "Madrid",
         "clouds_all": 0,
         "dt_iso": "2015-01-01 03:00:00+01:00",
         "humidity": 64,
         "pressure": 971,
         "rain_1h": 0,
         "rain_3h": 0,
         "snow_3h": 0,
         "temp": 266.186,
         "temp_max": 266.186,
         "temp_min": 266.186,
         "weather_description": "sky is clear",
         "weather_icon": "01n",
         "weather_id": 800,
         "weather_main": "clear",
         "wind_deg": 273,
         "wind_speed": 1
        },
        {
         "_deepnote_index_column": 35149,
         "city_name": "Madrid",
         "clouds_all": 0,
         "dt_iso": "2015-01-01 04:00:00+01:00",
         "humidity": 64,
         "pressure": 971,
         "rain_1h": 0,
         "rain_3h": 0,
         "snow_3h": 0,
         "temp": 266.186,
         "temp_max": 266.186,
         "temp_min": 266.186,
         "weather_description": "sky is clear",
         "weather_icon": "01n",
         "weather_id": 800,
         "weather_main": "clear",
         "wind_deg": 273,
         "wind_speed": 1
        },
        {
         "_deepnote_index_column": 35150,
         "city_name": "Madrid",
         "clouds_all": 0,
         "dt_iso": "2015-01-01 05:00:00+01:00",
         "humidity": 64,
         "pressure": 972,
         "rain_1h": 0,
         "rain_3h": 0,
         "snow_3h": 0,
         "temp": 265.442,
         "temp_max": 265.442,
         "temp_min": 265.442,
         "weather_description": "sky is clear",
         "weather_icon": "01n",
         "weather_id": 800,
         "weather_main": "clear",
         "wind_deg": 240,
         "wind_speed": 0
        },
        {
         "_deepnote_index_column": 35151,
         "city_name": "Madrid",
         "clouds_all": 0,
         "dt_iso": "2015-01-01 06:00:00+01:00",
         "humidity": 64,
         "pressure": 972,
         "rain_1h": 0,
         "rain_3h": 0,
         "snow_3h": 0,
         "temp": 265.442,
         "temp_max": 265.442,
         "temp_min": 265.442,
         "weather_description": "sky is clear",
         "weather_icon": "01n",
         "weather_id": 800,
         "weather_main": "clear",
         "wind_deg": 240,
         "wind_speed": 0
        },
        {
         "_deepnote_index_column": 35152,
         "city_name": "Madrid",
         "clouds_all": 0,
         "dt_iso": "2015-01-01 07:00:00+01:00",
         "humidity": 64,
         "pressure": 972,
         "rain_1h": 0,
         "rain_3h": 0,
         "snow_3h": 0,
         "temp": 265.442,
         "temp_max": 265.442,
         "temp_min": 265.442,
         "weather_description": "sky is clear",
         "weather_icon": "01n",
         "weather_id": 800,
         "weather_main": "clear",
         "wind_deg": 240,
         "wind_speed": 0
        },
        {
         "_deepnote_index_column": 35153,
         "city_name": "Madrid",
         "clouds_all": 0,
         "dt_iso": "2015-01-01 08:00:00+01:00",
         "humidity": 66,
         "pressure": 974,
         "rain_1h": 0,
         "rain_3h": 0,
         "snow_3h": 0,
         "temp": 268.276,
         "temp_max": 268.276,
         "temp_min": 268.276,
         "weather_description": "sky is clear",
         "weather_icon": "01d",
         "weather_id": 800,
         "weather_main": "clear",
         "wind_deg": 329,
         "wind_speed": 1
        },
        {
         "_deepnote_index_column": 35154,
         "city_name": "Madrid",
         "clouds_all": 0,
         "dt_iso": "2015-01-01 09:00:00+01:00",
         "humidity": 66,
         "pressure": 974,
         "rain_1h": 0,
         "rain_3h": 0,
         "snow_3h": 0,
         "temp": 268.276,
         "temp_max": 268.276,
         "temp_min": 268.276,
         "weather_description": "sky is clear",
         "weather_icon": "01d",
         "weather_id": 800,
         "weather_main": "clear",
         "wind_deg": 329,
         "wind_speed": 1
        },
        {
         "_deepnote_index_column": 35155,
         "city_name": "Madrid",
         "clouds_all": 0,
         "dt_iso": "2015-01-01 10:00:00+01:00",
         "humidity": 66,
         "pressure": 974,
         "rain_1h": 0,
         "rain_3h": 0,
         "snow_3h": 0,
         "temp": 268.276,
         "temp_max": 268.276,
         "temp_min": 268.276,
         "weather_description": "sky is clear",
         "weather_icon": "01d",
         "weather_id": 800,
         "weather_main": "clear",
         "wind_deg": 329,
         "wind_speed": 1
        },
        {
         "_deepnote_index_column": 35156,
         "city_name": "Madrid",
         "clouds_all": 0,
         "dt_iso": "2015-01-01 11:00:00+01:00",
         "humidity": 61,
         "pressure": 974,
         "rain_1h": 0,
         "rain_3h": 0,
         "snow_3h": 0,
         "temp": 281.574,
         "temp_max": 281.574,
         "temp_min": 281.574,
         "weather_description": "sky is clear",
         "weather_icon": "01d",
         "weather_id": 800,
         "weather_main": "clear",
         "wind_deg": 344,
         "wind_speed": 1
        },
        {
         "_deepnote_index_column": 35157,
         "city_name": "Madrid",
         "clouds_all": 0,
         "dt_iso": "2015-01-01 12:00:00+01:00",
         "humidity": 61,
         "pressure": 974,
         "rain_1h": 0,
         "rain_3h": 0,
         "snow_3h": 0,
         "temp": 281.574,
         "temp_max": 281.574,
         "temp_min": 281.574,
         "weather_description": "sky is clear",
         "weather_icon": "01d",
         "weather_id": 800,
         "weather_main": "clear",
         "wind_deg": 344,
         "wind_speed": 1
        },
        {
         "_deepnote_index_column": 35158,
         "city_name": "Madrid",
         "clouds_all": 0,
         "dt_iso": "2015-01-01 13:00:00+01:00",
         "humidity": 61,
         "pressure": 974,
         "rain_1h": 0,
         "rain_3h": 0,
         "snow_3h": 0,
         "temp": 281.574,
         "temp_max": 281.574,
         "temp_min": 281.574,
         "weather_description": "sky is clear",
         "weather_icon": "01d",
         "weather_id": 800,
         "weather_main": "clear",
         "wind_deg": 344,
         "wind_speed": 1
        },
        {
         "_deepnote_index_column": 35159,
         "city_name": "Madrid",
         "clouds_all": 0,
         "dt_iso": "2015-01-01 14:00:00+01:00",
         "humidity": 47,
         "pressure": 1036,
         "rain_1h": 0,
         "rain_3h": 0,
         "snow_3h": 0,
         "temp": 282.53765625,
         "temp_max": 282.53765625,
         "temp_min": 282.53765625,
         "weather_description": "sky is clear",
         "weather_icon": "01",
         "weather_id": 800,
         "weather_main": "clear",
         "wind_deg": 15,
         "wind_speed": 1
        },
        {
         "_deepnote_index_column": 35160,
         "city_name": "Madrid",
         "clouds_all": 0,
         "dt_iso": "2015-01-01 15:00:00+01:00",
         "humidity": 45,
         "pressure": 1035,
         "rain_1h": 0,
         "rain_3h": 0,
         "snow_3h": 0,
         "temp": 283.3083125,
         "temp_max": 283.3083125,
         "temp_min": 283.3083125,
         "weather_description": "sky is clear",
         "weather_icon": "01",
         "weather_id": 800,
         "weather_main": "clear",
         "wind_deg": 24,
         "wind_speed": 1
        },
        {
         "_deepnote_index_column": 35161,
         "city_name": "Madrid",
         "clouds_all": 0,
         "dt_iso": "2015-01-01 16:00:00+01:00",
         "humidity": 68,
         "pressure": 1036,
         "rain_1h": 0,
         "rain_3h": 0,
         "snow_3h": 0,
         "temp": 277.95799999999997,
         "temp_max": 277.95799999999997,
         "temp_min": 277.95799999999997,
         "weather_description": "sky is clear",
         "weather_icon": "01",
         "weather_id": 800,
         "weather_main": "clear",
         "wind_deg": 108,
         "wind_speed": 1
        },
        {
         "_deepnote_index_column": 35162,
         "city_name": "Madrid",
         "clouds_all": 0,
         "dt_iso": "2015-01-01 17:00:00+01:00",
         "humidity": 58,
         "pressure": 1035,
         "rain_1h": 0,
         "rain_3h": 0,
         "snow_3h": 0,
         "temp": 280.769,
         "temp_max": 280.769,
         "temp_min": 280.769,
         "weather_description": "sky is clear",
         "weather_icon": "01",
         "weather_id": 800,
         "weather_main": "clear",
         "wind_deg": 92,
         "wind_speed": 1
        },
        {
         "_deepnote_index_column": 35163,
         "city_name": "Madrid",
         "clouds_all": 0,
         "dt_iso": "2015-01-01 18:00:00+01:00",
         "humidity": 72,
         "pressure": 1036,
         "rain_1h": 0,
         "rain_3h": 0,
         "snow_3h": 0,
         "temp": 277.459,
         "temp_max": 277.459,
         "temp_min": 277.459,
         "weather_description": "sky is clear",
         "weather_icon": "01",
         "weather_id": 800,
         "weather_main": "clear",
         "wind_deg": 150,
         "wind_speed": 1
        },
        {
         "_deepnote_index_column": 35164,
         "city_name": "Madrid",
         "clouds_all": 0,
         "dt_iso": "2015-01-01 19:00:00+01:00",
         "humidity": 55,
         "pressure": 999,
         "rain_1h": 0,
         "rain_3h": 0,
         "snow_3h": 0,
         "temp": 274.9511875,
         "temp_max": 274.9511875,
         "temp_min": 274.9511875,
         "weather_description": "sky is clear",
         "weather_icon": "01",
         "weather_id": 800,
         "weather_main": "clear",
         "wind_deg": 156,
         "wind_speed": 1
        },
        {
         "_deepnote_index_column": 35165,
         "city_name": "Madrid",
         "clouds_all": 0,
         "dt_iso": "2015-01-01 20:00:00+01:00",
         "humidity": 75,
         "pressure": 1005,
         "rain_1h": 0,
         "rain_3h": 0,
         "snow_3h": 0,
         "temp": 271.5075,
         "temp_max": 271.5075,
         "temp_min": 271.5075,
         "weather_description": "sky is clear",
         "weather_icon": "01",
         "weather_id": 800,
         "weather_main": "clear",
         "wind_deg": 224,
         "wind_speed": 1
        },
        {
         "_deepnote_index_column": 35166,
         "city_name": "Madrid",
         "clouds_all": 0,
         "dt_iso": "2015-01-01 21:00:00+01:00",
         "humidity": 63,
         "pressure": 974,
         "rain_1h": 0,
         "rain_3h": 0,
         "snow_3h": 0,
         "temp": 268.866,
         "temp_max": 268.866,
         "temp_min": 268.866,
         "weather_description": "sky is clear",
         "weather_icon": "01n",
         "weather_id": 800,
         "weather_main": "clear",
         "wind_deg": 239,
         "wind_speed": 1
        },
        {
         "_deepnote_index_column": 35167,
         "city_name": "Madrid",
         "clouds_all": 0,
         "dt_iso": "2015-01-01 22:00:00+01:00",
         "humidity": 63,
         "pressure": 974,
         "rain_1h": 0,
         "rain_3h": 0,
         "snow_3h": 0,
         "temp": 268.866,
         "temp_max": 268.866,
         "temp_min": 268.866,
         "weather_description": "sky is clear",
         "weather_icon": "01n",
         "weather_id": 800,
         "weather_main": "clear",
         "wind_deg": 239,
         "wind_speed": 1
        },
        {
         "_deepnote_index_column": 35168,
         "city_name": "Madrid",
         "clouds_all": 0,
         "dt_iso": "2015-01-01 23:00:00+01:00",
         "humidity": 64,
         "pressure": 975,
         "rain_1h": 0,
         "rain_3h": 0,
         "snow_3h": 0,
         "temp": 267.129,
         "temp_max": 267.129,
         "temp_min": 267.129,
         "weather_description": "sky is clear",
         "weather_icon": "01n",
         "weather_id": 800,
         "weather_main": "clear",
         "wind_deg": 254,
         "wind_speed": 1
        },
        {
         "_deepnote_index_column": 35169,
         "city_name": "Madrid",
         "clouds_all": 0,
         "dt_iso": "2015-01-02 00:00:00+01:00",
         "humidity": 64,
         "pressure": 975,
         "rain_1h": 0,
         "rain_3h": 0,
         "snow_3h": 0,
         "temp": 267.129,
         "temp_max": 267.129,
         "temp_min": 267.129,
         "weather_description": "sky is clear",
         "weather_icon": "01n",
         "weather_id": 800,
         "weather_main": "clear",
         "wind_deg": 254,
         "wind_speed": 1
        },
        {
         "_deepnote_index_column": 35170,
         "city_name": "Madrid",
         "clouds_all": 0,
         "dt_iso": "2015-01-02 01:00:00+01:00",
         "humidity": 64,
         "pressure": 975,
         "rain_1h": 0,
         "rain_3h": 0,
         "snow_3h": 0,
         "temp": 267.129,
         "temp_max": 267.129,
         "temp_min": 267.129,
         "weather_description": "sky is clear",
         "weather_icon": "01n",
         "weather_id": 800,
         "weather_main": "clear",
         "wind_deg": 254,
         "wind_speed": 1
        },
        {
         "_deepnote_index_column": 35171,
         "city_name": "Madrid",
         "clouds_all": 0,
         "dt_iso": "2015-01-02 02:00:00+01:00",
         "humidity": 64,
         "pressure": 974,
         "rain_1h": 0,
         "rain_3h": 0,
         "snow_3h": 0,
         "temp": 266.389,
         "temp_max": 266.389,
         "temp_min": 266.389,
         "weather_description": "sky is clear",
         "weather_icon": "01n",
         "weather_id": 800,
         "weather_main": "clear",
         "wind_deg": 314,
         "wind_speed": 1
        },
        {
         "_deepnote_index_column": 35172,
         "city_name": "Madrid",
         "clouds_all": 0,
         "dt_iso": "2015-01-02 03:00:00+01:00",
         "humidity": 64,
         "pressure": 974,
         "rain_1h": 0,
         "rain_3h": 0,
         "snow_3h": 0,
         "temp": 266.389,
         "temp_max": 266.389,
         "temp_min": 266.389,
         "weather_description": "sky is clear",
         "weather_icon": "01n",
         "weather_id": 800,
         "weather_main": "clear",
         "wind_deg": 314,
         "wind_speed": 1
        },
        {
         "_deepnote_index_column": 35173,
         "city_name": "Madrid",
         "clouds_all": 0,
         "dt_iso": "2015-01-02 04:00:00+01:00",
         "humidity": 64,
         "pressure": 974,
         "rain_1h": 0,
         "rain_3h": 0,
         "snow_3h": 0,
         "temp": 266.389,
         "temp_max": 266.389,
         "temp_min": 266.389,
         "weather_description": "sky is clear",
         "weather_icon": "01n",
         "weather_id": 800,
         "weather_main": "clear",
         "wind_deg": 314,
         "wind_speed": 1
        }
       ]
      },
      "text/html": [
       "<div>\n",
       "<style scoped>\n",
       "    .dataframe tbody tr th:only-of-type {\n",
       "        vertical-align: middle;\n",
       "    }\n",
       "\n",
       "    .dataframe tbody tr th {\n",
       "        vertical-align: top;\n",
       "    }\n",
       "\n",
       "    .dataframe thead th {\n",
       "        text-align: right;\n",
       "    }\n",
       "</style>\n",
       "<table border=\"1\" class=\"dataframe\">\n",
       "  <thead>\n",
       "    <tr style=\"text-align: right;\">\n",
       "      <th></th>\n",
       "      <th>dt_iso</th>\n",
       "      <th>city_name</th>\n",
       "      <th>temp</th>\n",
       "      <th>temp_min</th>\n",
       "      <th>temp_max</th>\n",
       "      <th>pressure</th>\n",
       "      <th>humidity</th>\n",
       "      <th>wind_speed</th>\n",
       "      <th>wind_deg</th>\n",
       "      <th>rain_1h</th>\n",
       "      <th>rain_3h</th>\n",
       "      <th>snow_3h</th>\n",
       "      <th>clouds_all</th>\n",
       "      <th>weather_id</th>\n",
       "      <th>weather_main</th>\n",
       "      <th>weather_description</th>\n",
       "      <th>weather_icon</th>\n",
       "    </tr>\n",
       "  </thead>\n",
       "  <tbody>\n",
       "    <tr>\n",
       "      <th>35145</th>\n",
       "      <td>2015-01-01 00:00:00+01:00</td>\n",
       "      <td>Madrid</td>\n",
       "      <td>267.325</td>\n",
       "      <td>267.325</td>\n",
       "      <td>267.325</td>\n",
       "      <td>971</td>\n",
       "      <td>63</td>\n",
       "      <td>1</td>\n",
       "      <td>309</td>\n",
       "      <td>0.0</td>\n",
       "      <td>0.0</td>\n",
       "      <td>0.0</td>\n",
       "      <td>0</td>\n",
       "      <td>800</td>\n",
       "      <td>clear</td>\n",
       "      <td>sky is clear</td>\n",
       "      <td>01n</td>\n",
       "    </tr>\n",
       "    <tr>\n",
       "      <th>35146</th>\n",
       "      <td>2015-01-01 01:00:00+01:00</td>\n",
       "      <td>Madrid</td>\n",
       "      <td>267.325</td>\n",
       "      <td>267.325</td>\n",
       "      <td>267.325</td>\n",
       "      <td>971</td>\n",
       "      <td>63</td>\n",
       "      <td>1</td>\n",
       "      <td>309</td>\n",
       "      <td>0.0</td>\n",
       "      <td>0.0</td>\n",
       "      <td>0.0</td>\n",
       "      <td>0</td>\n",
       "      <td>800</td>\n",
       "      <td>clear</td>\n",
       "      <td>sky is clear</td>\n",
       "      <td>01n</td>\n",
       "    </tr>\n",
       "    <tr>\n",
       "      <th>35147</th>\n",
       "      <td>2015-01-01 02:00:00+01:00</td>\n",
       "      <td>Madrid</td>\n",
       "      <td>266.186</td>\n",
       "      <td>266.186</td>\n",
       "      <td>266.186</td>\n",
       "      <td>971</td>\n",
       "      <td>64</td>\n",
       "      <td>1</td>\n",
       "      <td>273</td>\n",
       "      <td>0.0</td>\n",
       "      <td>0.0</td>\n",
       "      <td>0.0</td>\n",
       "      <td>0</td>\n",
       "      <td>800</td>\n",
       "      <td>clear</td>\n",
       "      <td>sky is clear</td>\n",
       "      <td>01n</td>\n",
       "    </tr>\n",
       "    <tr>\n",
       "      <th>35148</th>\n",
       "      <td>2015-01-01 03:00:00+01:00</td>\n",
       "      <td>Madrid</td>\n",
       "      <td>266.186</td>\n",
       "      <td>266.186</td>\n",
       "      <td>266.186</td>\n",
       "      <td>971</td>\n",
       "      <td>64</td>\n",
       "      <td>1</td>\n",
       "      <td>273</td>\n",
       "      <td>0.0</td>\n",
       "      <td>0.0</td>\n",
       "      <td>0.0</td>\n",
       "      <td>0</td>\n",
       "      <td>800</td>\n",
       "      <td>clear</td>\n",
       "      <td>sky is clear</td>\n",
       "      <td>01n</td>\n",
       "    </tr>\n",
       "    <tr>\n",
       "      <th>35149</th>\n",
       "      <td>2015-01-01 04:00:00+01:00</td>\n",
       "      <td>Madrid</td>\n",
       "      <td>266.186</td>\n",
       "      <td>266.186</td>\n",
       "      <td>266.186</td>\n",
       "      <td>971</td>\n",
       "      <td>64</td>\n",
       "      <td>1</td>\n",
       "      <td>273</td>\n",
       "      <td>0.0</td>\n",
       "      <td>0.0</td>\n",
       "      <td>0.0</td>\n",
       "      <td>0</td>\n",
       "      <td>800</td>\n",
       "      <td>clear</td>\n",
       "      <td>sky is clear</td>\n",
       "      <td>01n</td>\n",
       "    </tr>\n",
       "    <tr>\n",
       "      <th>...</th>\n",
       "      <td>...</td>\n",
       "      <td>...</td>\n",
       "      <td>...</td>\n",
       "      <td>...</td>\n",
       "      <td>...</td>\n",
       "      <td>...</td>\n",
       "      <td>...</td>\n",
       "      <td>...</td>\n",
       "      <td>...</td>\n",
       "      <td>...</td>\n",
       "      <td>...</td>\n",
       "      <td>...</td>\n",
       "      <td>...</td>\n",
       "      <td>...</td>\n",
       "      <td>...</td>\n",
       "      <td>...</td>\n",
       "      <td>...</td>\n",
       "    </tr>\n",
       "    <tr>\n",
       "      <th>71407</th>\n",
       "      <td>2018-12-31 19:00:00+01:00</td>\n",
       "      <td>Madrid</td>\n",
       "      <td>283.560</td>\n",
       "      <td>282.150</td>\n",
       "      <td>285.150</td>\n",
       "      <td>1030</td>\n",
       "      <td>88</td>\n",
       "      <td>1</td>\n",
       "      <td>280</td>\n",
       "      <td>0.0</td>\n",
       "      <td>0.0</td>\n",
       "      <td>0.0</td>\n",
       "      <td>0</td>\n",
       "      <td>800</td>\n",
       "      <td>clear</td>\n",
       "      <td>sky is clear</td>\n",
       "      <td>01n</td>\n",
       "    </tr>\n",
       "    <tr>\n",
       "      <th>71408</th>\n",
       "      <td>2018-12-31 20:00:00+01:00</td>\n",
       "      <td>Madrid</td>\n",
       "      <td>280.120</td>\n",
       "      <td>278.150</td>\n",
       "      <td>281.150</td>\n",
       "      <td>1031</td>\n",
       "      <td>52</td>\n",
       "      <td>1</td>\n",
       "      <td>260</td>\n",
       "      <td>0.0</td>\n",
       "      <td>0.0</td>\n",
       "      <td>0.0</td>\n",
       "      <td>0</td>\n",
       "      <td>800</td>\n",
       "      <td>clear</td>\n",
       "      <td>sky is clear</td>\n",
       "      <td>01n</td>\n",
       "    </tr>\n",
       "    <tr>\n",
       "      <th>71409</th>\n",
       "      <td>2018-12-31 21:00:00+01:00</td>\n",
       "      <td>Madrid</td>\n",
       "      <td>278.150</td>\n",
       "      <td>278.150</td>\n",
       "      <td>278.150</td>\n",
       "      <td>1030</td>\n",
       "      <td>65</td>\n",
       "      <td>1</td>\n",
       "      <td>340</td>\n",
       "      <td>0.0</td>\n",
       "      <td>0.0</td>\n",
       "      <td>0.0</td>\n",
       "      <td>0</td>\n",
       "      <td>800</td>\n",
       "      <td>clear</td>\n",
       "      <td>sky is clear</td>\n",
       "      <td>01n</td>\n",
       "    </tr>\n",
       "    <tr>\n",
       "      <th>71410</th>\n",
       "      <td>2018-12-31 22:00:00+01:00</td>\n",
       "      <td>Madrid</td>\n",
       "      <td>276.570</td>\n",
       "      <td>276.150</td>\n",
       "      <td>277.150</td>\n",
       "      <td>1031</td>\n",
       "      <td>69</td>\n",
       "      <td>2</td>\n",
       "      <td>340</td>\n",
       "      <td>0.0</td>\n",
       "      <td>0.0</td>\n",
       "      <td>0.0</td>\n",
       "      <td>0</td>\n",
       "      <td>800</td>\n",
       "      <td>clear</td>\n",
       "      <td>sky is clear</td>\n",
       "      <td>01n</td>\n",
       "    </tr>\n",
       "    <tr>\n",
       "      <th>71411</th>\n",
       "      <td>2018-12-31 23:00:00+01:00</td>\n",
       "      <td>Madrid</td>\n",
       "      <td>275.150</td>\n",
       "      <td>275.150</td>\n",
       "      <td>275.150</td>\n",
       "      <td>1031</td>\n",
       "      <td>74</td>\n",
       "      <td>1</td>\n",
       "      <td>360</td>\n",
       "      <td>0.0</td>\n",
       "      <td>0.0</td>\n",
       "      <td>0.0</td>\n",
       "      <td>0</td>\n",
       "      <td>800</td>\n",
       "      <td>clear</td>\n",
       "      <td>sky is clear</td>\n",
       "      <td>01n</td>\n",
       "    </tr>\n",
       "  </tbody>\n",
       "</table>\n",
       "<p>36267 rows × 17 columns</p>\n",
       "</div>"
      ],
      "text/plain": [
       "                          dt_iso city_name     temp  temp_min  temp_max  \\\n",
       "35145  2015-01-01 00:00:00+01:00    Madrid  267.325   267.325   267.325   \n",
       "35146  2015-01-01 01:00:00+01:00    Madrid  267.325   267.325   267.325   \n",
       "35147  2015-01-01 02:00:00+01:00    Madrid  266.186   266.186   266.186   \n",
       "35148  2015-01-01 03:00:00+01:00    Madrid  266.186   266.186   266.186   \n",
       "35149  2015-01-01 04:00:00+01:00    Madrid  266.186   266.186   266.186   \n",
       "...                          ...       ...      ...       ...       ...   \n",
       "71407  2018-12-31 19:00:00+01:00    Madrid  283.560   282.150   285.150   \n",
       "71408  2018-12-31 20:00:00+01:00    Madrid  280.120   278.150   281.150   \n",
       "71409  2018-12-31 21:00:00+01:00    Madrid  278.150   278.150   278.150   \n",
       "71410  2018-12-31 22:00:00+01:00    Madrid  276.570   276.150   277.150   \n",
       "71411  2018-12-31 23:00:00+01:00    Madrid  275.150   275.150   275.150   \n",
       "\n",
       "       pressure  humidity  wind_speed  wind_deg  rain_1h  rain_3h  snow_3h  \\\n",
       "35145       971        63           1       309      0.0      0.0      0.0   \n",
       "35146       971        63           1       309      0.0      0.0      0.0   \n",
       "35147       971        64           1       273      0.0      0.0      0.0   \n",
       "35148       971        64           1       273      0.0      0.0      0.0   \n",
       "35149       971        64           1       273      0.0      0.0      0.0   \n",
       "...         ...       ...         ...       ...      ...      ...      ...   \n",
       "71407      1030        88           1       280      0.0      0.0      0.0   \n",
       "71408      1031        52           1       260      0.0      0.0      0.0   \n",
       "71409      1030        65           1       340      0.0      0.0      0.0   \n",
       "71410      1031        69           2       340      0.0      0.0      0.0   \n",
       "71411      1031        74           1       360      0.0      0.0      0.0   \n",
       "\n",
       "       clouds_all  weather_id weather_main weather_description weather_icon  \n",
       "35145           0         800        clear        sky is clear          01n  \n",
       "35146           0         800        clear        sky is clear          01n  \n",
       "35147           0         800        clear        sky is clear          01n  \n",
       "35148           0         800        clear        sky is clear          01n  \n",
       "35149           0         800        clear        sky is clear          01n  \n",
       "...           ...         ...          ...                 ...          ...  \n",
       "71407           0         800        clear        sky is clear          01n  \n",
       "71408           0         800        clear        sky is clear          01n  \n",
       "71409           0         800        clear        sky is clear          01n  \n",
       "71410           0         800        clear        sky is clear          01n  \n",
       "71411           0         800        clear        sky is clear          01n  \n",
       "\n",
       "[36267 rows x 17 columns]"
      ]
     },
     "execution_count": 6,
     "metadata": {},
     "output_type": "execute_result"
    }
   ],
   "source": [
    "madrid = weather.loc[weather[\"city_name\"]==\"Madrid\"]\n",
    "madrid"
   ]
  },
  {
   "cell_type": "markdown",
   "metadata": {
    "cell_id": "00009-3951841e-6267-4cab-942a-5c01d08ebf7c",
    "deepnote_cell_type": "markdown",
    "output_cleared": false,
    "tags": []
   },
   "source": [
    "Remove the duplicate entries by looking at the “dt_iso” column which is the date and time of weather measurement."
   ]
  },
  {
   "cell_type": "code",
   "execution_count": null,
   "metadata": {
    "cell_id": "00013-8e006dbb-547f-42bd-9d29-176ccb9dc99d",
    "collapsed": true,
    "deepnote_cell_type": "code",
    "deepnote_to_be_reexecuted": false,
    "execution": {
     "iopub.execute_input": "2020-12-10T21:50:52.571960Z",
     "iopub.status.busy": "2020-12-10T21:50:52.571224Z",
     "iopub.status.idle": "2020-12-10T21:50:52.616999Z",
     "shell.execute_reply": "2020-12-10T21:50:52.616289Z"
    },
    "execution_millis": 0,
    "execution_start": 1610449170769,
    "output_cleared": false,
    "papermill": {
     "duration": 0.090588,
     "end_time": "2020-12-10T21:50:52.617140",
     "exception": false,
     "start_time": "2020-12-10T21:50:52.526552",
     "status": "completed"
    },
    "source_hash": "354d0151",
    "tags": []
   },
   "outputs": [],
   "source": [
    "# Removing duplicates\n",
    "madrid = madrid.drop_duplicates(subset=\"dt_iso\")"
   ]
  },
  {
   "cell_type": "markdown",
   "metadata": {
    "cell_id": "00010-43e63ef9-5ebe-414e-ae19-a7e9c667c60d",
    "deepnote_cell_type": "markdown",
    "output_cleared": false,
    "tags": []
   },
   "source": [
    "Merging Madrid Weather data with Energy related features"
   ]
  },
  {
   "cell_type": "code",
   "execution_count": null,
   "metadata": {
    "cell_id": "00014-61a11767-440a-48a9-8548-2909e02683e9",
    "collapsed": true,
    "deepnote_cell_type": "code",
    "deepnote_to_be_reexecuted": false,
    "execution": {
     "iopub.execute_input": "2020-12-10T21:50:52.710170Z",
     "iopub.status.busy": "2020-12-10T21:50:52.709396Z",
     "iopub.status.idle": "2020-12-10T21:50:52.755724Z",
     "shell.execute_reply": "2020-12-10T21:50:52.755075Z"
    },
    "execution_millis": 43,
    "execution_start": 1610449170770,
    "output_cleared": false,
    "papermill": {
     "duration": 0.100638,
     "end_time": "2020-12-10T21:50:52.755855",
     "exception": false,
     "start_time": "2020-12-10T21:50:52.655217",
     "status": "completed"
    },
    "source_hash": "2dd74eb",
    "tags": []
   },
   "outputs": [],
   "source": [
    "\n",
    "m_madrid = pd.merge(left=energy, right=madrid, left_on='time', right_on='dt_iso')"
   ]
  },
  {
   "cell_type": "markdown",
   "metadata": {
    "cell_id": "00015-84ba7c21-5b67-4061-bbf0-02af235f32fb",
    "deepnote_cell_type": "markdown",
    "output_cleared": false,
    "papermill": {
     "duration": 0.03744,
     "end_time": "2020-12-10T21:50:52.831124",
     "exception": false,
     "start_time": "2020-12-10T21:50:52.793684",
     "status": "completed"
    },
    "tags": []
   },
   "source": [
    "Drop irrelevant and null columns"
   ]
  },
  {
   "cell_type": "code",
   "execution_count": null,
   "metadata": {
    "cell_id": "00016-c164d0b4-2bd0-4e43-b7f0-e4e49ada4283",
    "collapsed": true,
    "deepnote_cell_type": "code",
    "deepnote_to_be_reexecuted": false,
    "execution": {
     "iopub.execute_input": "2020-12-10T21:50:52.913634Z",
     "iopub.status.busy": "2020-12-10T21:50:52.912868Z",
     "iopub.status.idle": "2020-12-10T21:50:52.942171Z",
     "shell.execute_reply": "2020-12-10T21:50:52.941366Z"
    },
    "execution_millis": 11,
    "execution_start": 1610449170814,
    "output_cleared": false,
    "papermill": {
     "duration": 0.073354,
     "end_time": "2020-12-10T21:50:52.942307",
     "exception": false,
     "start_time": "2020-12-10T21:50:52.868953",
     "status": "completed"
    },
    "source_hash": "d25b9ac3",
    "tags": []
   },
   "outputs": [],
   "source": [
    "m_madrid = m_madrid.drop(labels = [\"city_name\", \"weather_main\", \"weather_description\", \"weather_icon\", \"weather_id\"], axis = 1)"
   ]
  },
  {
   "cell_type": "code",
   "execution_count": null,
   "metadata": {
    "cell_id": "00017-3bf916c5-a7d6-49fe-a6d4-960a6c50d6b3",
    "collapsed": true,
    "deepnote_cell_type": "code",
    "deepnote_to_be_reexecuted": false,
    "execution": {
     "iopub.execute_input": "2020-12-10T21:50:53.028444Z",
     "iopub.status.busy": "2020-12-10T21:50:53.027675Z",
     "iopub.status.idle": "2020-12-10T21:50:53.040460Z",
     "shell.execute_reply": "2020-12-10T21:50:53.039788Z"
    },
    "execution_millis": 0,
    "execution_start": 1610449170872,
    "output_cleared": false,
    "papermill": {
     "duration": 0.05966,
     "end_time": "2020-12-10T21:50:53.040586",
     "exception": false,
     "start_time": "2020-12-10T21:50:52.980926",
     "status": "completed"
    },
    "source_hash": "efc1207e",
    "tags": []
   },
   "outputs": [],
   "source": [
    "m_madrid = m_madrid.dropna(axis=0)"
   ]
  },
  {
   "cell_type": "code",
   "execution_count": null,
   "metadata": {
    "cell_id": "00018-ff34f95a-9adb-4d62-a437-4ddcf66745d3",
    "collapsed": true,
    "deepnote_cell_type": "code",
    "deepnote_to_be_reexecuted": false,
    "execution": {
     "iopub.execute_input": "2020-12-10T21:50:53.126808Z",
     "iopub.status.busy": "2020-12-10T21:50:53.125787Z",
     "iopub.status.idle": "2020-12-10T21:50:53.129035Z",
     "shell.execute_reply": "2020-12-10T21:50:53.128448Z"
    },
    "execution_millis": 0,
    "execution_start": 1610449170873,
    "output_cleared": false,
    "papermill": {
     "duration": 0.050363,
     "end_time": "2020-12-10T21:50:53.129177",
     "exception": false,
     "start_time": "2020-12-10T21:50:53.078814",
     "status": "completed"
    },
    "source_hash": "a39f496c",
    "tags": []
   },
   "outputs": [],
   "source": [
    "m_madrid_x = m_madrid.drop(labels = \"price actual\", axis = 1)"
   ]
  },
  {
   "cell_type": "code",
   "execution_count": null,
   "metadata": {
    "cell_id": "00019-dfdd2a99-7a52-4f7b-bc51-7bc1e5f41151",
    "collapsed": true,
    "deepnote_cell_type": "code",
    "deepnote_to_be_reexecuted": false,
    "execution": {
     "iopub.execute_input": "2020-12-10T21:50:53.211773Z",
     "iopub.status.busy": "2020-12-10T21:50:53.210942Z",
     "iopub.status.idle": "2020-12-10T21:50:53.213946Z",
     "shell.execute_reply": "2020-12-10T21:50:53.213216Z"
    },
    "execution_millis": 0,
    "execution_start": 1610449170873,
    "output_cleared": false,
    "papermill": {
     "duration": 0.046353,
     "end_time": "2020-12-10T21:50:53.214097",
     "exception": false,
     "start_time": "2020-12-10T21:50:53.167744",
     "status": "completed"
    },
    "source_hash": "6a01e4",
    "tags": []
   },
   "outputs": [],
   "source": [
    "from datetime import datetime as dt"
   ]
  },
  {
   "cell_type": "markdown",
   "metadata": {
    "cell_id": "00018-df86775e-71f8-4109-a539-020485deba49",
    "deepnote_cell_type": "markdown",
    "output_cleared": false,
    "tags": []
   },
   "source": [
    "Extract the hour of the day of the measurement as the “hour” feature."
   ]
  },
  {
   "cell_type": "code",
   "execution_count": null,
   "metadata": {
    "cell_id": "00020-59b74f25-5330-41f1-a828-b1762c08b614",
    "collapsed": true,
    "deepnote_cell_type": "code",
    "deepnote_to_be_reexecuted": false,
    "execution": {
     "iopub.execute_input": "2020-12-10T21:50:53.297165Z",
     "iopub.status.busy": "2020-12-10T21:50:53.296409Z",
     "iopub.status.idle": "2020-12-10T21:50:53.299145Z",
     "shell.execute_reply": "2020-12-10T21:50:53.298526Z"
    },
    "execution_millis": 0,
    "execution_start": 1610449170874,
    "output_cleared": false,
    "papermill": {
     "duration": 0.046462,
     "end_time": "2020-12-10T21:50:53.299267",
     "exception": false,
     "start_time": "2020-12-10T21:50:53.252805",
     "status": "completed"
    },
    "source_hash": "13415d4e",
    "tags": []
   },
   "outputs": [],
   "source": [
    "def date_to_hr(date_string):\n",
    "    return dt.fromisoformat(date_string).hour"
   ]
  },
  {
   "cell_type": "code",
   "execution_count": null,
   "metadata": {
    "cell_id": "00021-f8a1237d-5cd2-4f9d-a221-edf432bae310",
    "collapsed": true,
    "deepnote_cell_type": "code",
    "deepnote_to_be_reexecuted": false,
    "execution": {
     "iopub.execute_input": "2020-12-10T21:50:53.425162Z",
     "iopub.status.busy": "2020-12-10T21:50:53.424039Z",
     "iopub.status.idle": "2020-12-10T21:50:53.428614Z",
     "shell.execute_reply": "2020-12-10T21:50:53.427876Z"
    },
    "execution_millis": 18,
    "execution_start": 1610449170880,
    "output_cleared": false,
    "papermill": {
     "duration": 0.09081,
     "end_time": "2020-12-10T21:50:53.428735",
     "exception": false,
     "start_time": "2020-12-10T21:50:53.337925",
     "status": "completed"
    },
    "source_hash": "b9131c0b",
    "tags": []
   },
   "outputs": [],
   "source": [
    "m_madrid_x[\"hour\"] = list(map(date_to_hr, m_madrid_x[\"time\"]))"
   ]
  },
  {
   "cell_type": "markdown",
   "metadata": {
    "cell_id": "00021-1586719a-a3bc-4c41-bee8-1bad416ceb95",
    "deepnote_cell_type": "markdown",
    "output_cleared": false,
    "tags": []
   },
   "source": [
    "Extract the “month” as a feature as it would affect the energy consumption.\n"
   ]
  },
  {
   "cell_type": "code",
   "execution_count": null,
   "metadata": {
    "cell_id": "00018-0f715e6f-2554-484c-9269-d8e8b8c22914",
    "collapsed": true,
    "deepnote_cell_type": "code",
    "deepnote_to_be_reexecuted": false,
    "execution_millis": 0,
    "execution_start": 1610449170949,
    "output_cleared": false,
    "source_hash": "894d19c2",
    "tags": []
   },
   "outputs": [],
   "source": [
    "def date_to_mon(date_string):\n",
    "    return dt.fromisoformat(date_string).month"
   ]
  },
  {
   "cell_type": "code",
   "execution_count": null,
   "metadata": {
    "cell_id": "00019-af855c14-6937-4700-9f15-3a9360ab0e63",
    "collapsed": true,
    "deepnote_cell_type": "code",
    "deepnote_to_be_reexecuted": false,
    "execution_millis": 37,
    "execution_start": 1610449170950,
    "output_cleared": false,
    "source_hash": "4ee13ca4",
    "tags": []
   },
   "outputs": [],
   "source": [
    "m_madrid_x[\"month\"] = list(map(date_to_mon, m_madrid_x[\"time\"]))"
   ]
  },
  {
   "cell_type": "markdown",
   "metadata": {
    "cell_id": "00022-1dd37c9a-cb5e-418c-82e8-3b5182ec184c",
    "deepnote_cell_type": "markdown",
    "output_cleared": false,
    "papermill": {
     "duration": 0.038594,
     "end_time": "2020-12-10T21:50:53.506238",
     "exception": false,
     "start_time": "2020-12-10T21:50:53.467644",
     "status": "completed"
    },
    "tags": []
   },
   "source": [
    "Delete \"time\" for now"
   ]
  },
  {
   "cell_type": "code",
   "execution_count": null,
   "metadata": {
    "cell_id": "00023-785f0b18-7f6c-4056-8340-ec0b21bb9f6f",
    "collapsed": true,
    "deepnote_cell_type": "code",
    "deepnote_to_be_reexecuted": false,
    "execution": {
     "iopub.execute_input": "2020-12-10T21:50:53.589913Z",
     "iopub.status.busy": "2020-12-10T21:50:53.589178Z",
     "iopub.status.idle": "2020-12-10T21:50:53.600310Z",
     "shell.execute_reply": "2020-12-10T21:50:53.599539Z"
    },
    "execution_millis": 0,
    "execution_start": 1610449170988,
    "output_cleared": false,
    "papermill": {
     "duration": 0.055527,
     "end_time": "2020-12-10T21:50:53.600432",
     "exception": false,
     "start_time": "2020-12-10T21:50:53.544905",
     "status": "completed"
    },
    "source_hash": "59f281ed",
    "tags": []
   },
   "outputs": [],
   "source": [
    "m_madrid_x = m_madrid_x.drop(labels = \"time\", axis = 1)"
   ]
  },
  {
   "cell_type": "code",
   "execution_count": null,
   "metadata": {
    "cell_id": "00024-2a844b8f-a391-4fc9-a007-76c28125ba19",
    "collapsed": true,
    "deepnote_cell_type": "code",
    "deepnote_to_be_reexecuted": false,
    "execution": {
     "iopub.execute_input": "2020-12-10T21:50:53.684883Z",
     "iopub.status.busy": "2020-12-10T21:50:53.683767Z",
     "iopub.status.idle": "2020-12-10T21:50:53.687165Z",
     "shell.execute_reply": "2020-12-10T21:50:53.686453Z"
    },
    "execution_millis": 0,
    "execution_start": 1610449170988,
    "output_cleared": false,
    "papermill": {
     "duration": 0.046487,
     "end_time": "2020-12-10T21:50:53.687284",
     "exception": false,
     "start_time": "2020-12-10T21:50:53.640797",
     "status": "completed"
    },
    "source_hash": "2c4eb176",
    "tags": []
   },
   "outputs": [],
   "source": [
    "# dummies = pd.get_dummies(m_madrid_x.hour, prefix='H')\n",
    "# m_madrid_x = m_madrid_x.join(dummies)"
   ]
  },
  {
   "cell_type": "code",
   "execution_count": null,
   "metadata": {
    "cell_id": "00025-4de653a0-9fc9-43bf-8927-8744bc6a77a1",
    "collapsed": true,
    "deepnote_cell_type": "code",
    "deepnote_to_be_reexecuted": false,
    "execution": {
     "iopub.execute_input": "2020-12-10T21:50:53.772636Z",
     "iopub.status.busy": "2020-12-10T21:50:53.771563Z",
     "iopub.status.idle": "2020-12-10T21:50:53.776130Z",
     "shell.execute_reply": "2020-12-10T21:50:53.775496Z"
    },
    "execution_millis": 0,
    "execution_start": 1610449170989,
    "output_cleared": false,
    "papermill": {
     "duration": 0.049488,
     "end_time": "2020-12-10T21:50:53.776257",
     "exception": false,
     "start_time": "2020-12-10T21:50:53.726769",
     "status": "completed"
    },
    "source_hash": "db3d87cb",
    "tags": []
   },
   "outputs": [],
   "source": [
    "usable_features = list(m_madrid_x.columns)"
   ]
  },
  {
   "cell_type": "code",
   "execution_count": null,
   "metadata": {
    "cell_id": "00026-94b6fc05-bf8b-4a3e-81c7-e3c9142f22e5",
    "collapsed": true,
    "deepnote_cell_type": "code",
    "deepnote_to_be_reexecuted": false,
    "execution": {
     "iopub.execute_input": "2020-12-10T21:50:53.861650Z",
     "iopub.status.busy": "2020-12-10T21:50:53.860594Z",
     "iopub.status.idle": "2020-12-10T21:50:53.863742Z",
     "shell.execute_reply": "2020-12-10T21:50:53.863036Z"
    },
    "execution_millis": 0,
    "execution_start": 1610449170992,
    "output_cleared": false,
    "papermill": {
     "duration": 0.047708,
     "end_time": "2020-12-10T21:50:53.863862",
     "exception": false,
     "start_time": "2020-12-10T21:50:53.816154",
     "status": "completed"
    },
    "source_hash": "719455e6",
    "tags": []
   },
   "outputs": [],
   "source": [
    "m_madrid_y = m_madrid[\"price actual\"]"
   ]
  },
  {
   "cell_type": "code",
   "execution_count": null,
   "metadata": {
    "cell_id": "00028-8721ca51-4200-445a-958e-9e61b05bcbd6",
    "collapsed": true,
    "deepnote_cell_type": "code",
    "deepnote_to_be_reexecuted": false,
    "execution": {
     "iopub.execute_input": "2020-12-10T21:50:54.128205Z",
     "iopub.status.busy": "2020-12-10T21:50:54.127448Z",
     "iopub.status.idle": "2020-12-10T21:50:54.152751Z",
     "shell.execute_reply": "2020-12-10T21:50:54.152098Z"
    },
    "execution_millis": 37,
    "execution_start": 1610449170995,
    "output_cleared": false,
    "papermill": {
     "duration": 0.072969,
     "end_time": "2020-12-10T21:50:54.152883",
     "exception": false,
     "start_time": "2020-12-10T21:50:54.079914",
     "status": "completed"
    },
    "source_hash": "829d9a5e",
    "tags": []
   },
   "outputs": [],
   "source": [
    "X_train, X_test, y_train, y_test = train_test_split(m_madrid_x, m_madrid_y, test_size=0.2)\n",
    "X_train, X_val, y_train, y_val = train_test_split(X_train, y_train, test_size=0.25)"
   ]
  },
  {
   "cell_type": "markdown",
   "metadata": {
    "cell_id": "00024-bea24513-4d4b-4417-bcde-b627643e781d",
    "deepnote_cell_type": "markdown",
    "output_cleared": false,
    "tags": []
   },
   "source": [
    "## Linear Regression"
   ]
  },
  {
   "cell_type": "code",
   "execution_count": null,
   "metadata": {
    "cell_id": "00029-8f032376-8320-45d7-b75a-59a18b13fc1a",
    "deepnote_cell_type": "code",
    "deepnote_to_be_reexecuted": false,
    "execution": {
     "iopub.execute_input": "2020-12-10T21:50:54.241395Z",
     "iopub.status.busy": "2020-12-10T21:50:54.240645Z",
     "iopub.status.idle": "2020-12-10T21:50:54.357454Z",
     "shell.execute_reply": "2020-12-10T21:50:54.356788Z"
    },
    "execution_millis": 40,
    "execution_start": 1610449171041,
    "output_cleared": false,
    "papermill": {
     "duration": 0.164302,
     "end_time": "2020-12-10T21:50:54.357582",
     "exception": false,
     "start_time": "2020-12-10T21:50:54.193280",
     "status": "completed"
    },
    "source_hash": "93e7848a",
    "tags": []
   },
   "outputs": [
    {
     "data": {
      "text/plain": [
       "LinearRegression()"
      ]
     },
     "execution_count": 22,
     "metadata": {},
     "output_type": "execute_result"
    }
   ],
   "source": [
    "model = linear_model.LinearRegression()\n",
    "model.fit(X_train, y_train)"
   ]
  },
  {
   "cell_type": "code",
   "execution_count": null,
   "metadata": {
    "cell_id": "00030-96dab4b3-e6cc-4ec2-b9dc-bfad4e1c4629",
    "collapsed": true,
    "deepnote_cell_type": "code",
    "deepnote_to_be_reexecuted": false,
    "execution": {
     "iopub.execute_input": "2020-12-10T21:50:54.449735Z",
     "iopub.status.busy": "2020-12-10T21:50:54.448937Z",
     "iopub.status.idle": "2020-12-10T21:50:54.455582Z",
     "shell.execute_reply": "2020-12-10T21:50:54.454930Z"
    },
    "execution_millis": 37,
    "execution_start": 1610449171082,
    "output_cleared": false,
    "papermill": {
     "duration": 0.05644,
     "end_time": "2020-12-10T21:50:54.455711",
     "exception": false,
     "start_time": "2020-12-10T21:50:54.399271",
     "status": "completed"
    },
    "source_hash": "946a9544",
    "tags": []
   },
   "outputs": [],
   "source": [
    "y_pred_lr = model.predict(X_test)"
   ]
  },
  {
   "cell_type": "code",
   "execution_count": null,
   "metadata": {
    "cell_id": "00031-31227e25-b4e3-4973-ad54-7475fb217e01",
    "collapsed": true,
    "deepnote_cell_type": "code",
    "deepnote_to_be_reexecuted": false,
    "execution": {
     "iopub.execute_input": "2020-12-10T21:50:54.544723Z",
     "iopub.status.busy": "2020-12-10T21:50:54.543791Z",
     "iopub.status.idle": "2020-12-10T21:50:54.548568Z",
     "shell.execute_reply": "2020-12-10T21:50:54.547790Z"
    },
    "execution_millis": 11,
    "execution_start": 1610449171122,
    "output_cleared": false,
    "papermill": {
     "duration": 0.051357,
     "end_time": "2020-12-10T21:50:54.548699",
     "exception": false,
     "start_time": "2020-12-10T21:50:54.497342",
     "status": "completed"
    },
    "source_hash": "9336ee4a",
    "tags": []
   },
   "outputs": [],
   "source": [
    "TSO_pred = X_test[\"price day ahead\"]"
   ]
  },
  {
   "cell_type": "code",
   "execution_count": null,
   "metadata": {
    "cell_id": "00032-13a4e082-e4f0-4716-bd80-1cef1b734580",
    "deepnote_cell_type": "code",
    "deepnote_to_be_reexecuted": false,
    "execution": {
     "iopub.execute_input": "2020-12-10T21:50:54.642496Z",
     "iopub.status.busy": "2020-12-10T21:50:54.641549Z",
     "iopub.status.idle": "2020-12-10T21:50:54.744617Z",
     "shell.execute_reply": "2020-12-10T21:50:54.743865Z"
    },
    "execution_millis": 67,
    "execution_start": 1610449171137,
    "output_cleared": false,
    "papermill": {
     "duration": 0.154259,
     "end_time": "2020-12-10T21:50:54.744743",
     "exception": false,
     "start_time": "2020-12-10T21:50:54.590484",
     "status": "completed"
    },
    "source_hash": "ba93730b",
    "tags": []
   },
   "outputs": [
    {
     "name": "stdout",
     "output_type": "stream",
     "text": [
      "Intercept: 72.26664618335775\n",
      "Linear Regression Mean squared error (MSE): 72.15\n",
      "TSO Mean squared error (MSE): 176.29\n",
      "Coefficient of determination (R^2): 0.64\n"
     ]
    }
   ],
   "source": [
    "# print('Coefficients:', model.coef_)\n",
    "print('Intercept:', model.intercept_)\n",
    "print('Linear Regression Mean squared error (MSE): %.2f'\n",
    "      % mean_squared_error(y_test, y_pred_lr))\n",
    "print('TSO Mean squared error (MSE): %.2f'\n",
    "      % mean_squared_error(y_test, TSO_pred))\n",
    "print('Coefficient of determination (R^2): %.2f'\n",
    "      % r2_score(y_test, y_pred_lr))"
   ]
  },
  {
   "cell_type": "markdown",
   "metadata": {
    "cell_id": "00033-7debe2d4-46ed-4ca6-bd56-59b370d92d72",
    "deepnote_cell_type": "markdown",
    "output_cleared": false,
    "papermill": {
     "duration": 0.042675,
     "end_time": "2020-12-10T21:50:54.830297",
     "exception": false,
     "start_time": "2020-12-10T21:50:54.787622",
     "status": "completed"
    },
    "tags": []
   },
   "source": [
    "## XGBoost"
   ]
  },
  {
   "cell_type": "code",
   "execution_count": null,
   "metadata": {
    "cell_id": "00034-99d901a5-fed5-4651-ad52-57dd8fa33528",
    "deepnote_cell_type": "code",
    "deepnote_to_be_reexecuted": false,
    "execution": {
     "iopub.execute_input": "2020-12-10T21:50:54.923716Z",
     "iopub.status.busy": "2020-12-10T21:50:54.922805Z",
     "iopub.status.idle": "2020-12-10T21:50:54.927025Z",
     "shell.execute_reply": "2020-12-10T21:50:54.926333Z"
    },
    "execution_millis": 1,
    "execution_start": 1610449171253,
    "output_cleared": false,
    "papermill": {
     "duration": 0.053832,
     "end_time": "2020-12-10T21:50:54.927162",
     "exception": false,
     "start_time": "2020-12-10T21:50:54.873330",
     "status": "completed"
    },
    "source_hash": "72665ea9",
    "tags": []
   },
   "outputs": [
    {
     "name": "stdout",
     "output_type": "stream",
     "text": [
      "XGBRegressor(base_score=None, booster=None, colsample_bylevel=None,\n",
      "             colsample_bynode=None, colsample_bytree=None, gamma=None,\n",
      "             gpu_id=None, importance_type='gain', interaction_constraints=None,\n",
      "             learning_rate=None, max_delta_step=None, max_depth=None,\n",
      "             min_child_weight=0.1, missing=nan, monotone_constraints=None,\n",
      "             n_estimators=100, n_jobs=-1, num_parallel_tree=None,\n",
      "             objective='reg:linear', random_state=None, reg_alpha=None,\n",
      "             reg_lambda=None, scale_pos_weight=None, subsample=None,\n",
      "             tree_method=None, validate_parameters=None, verbosity=0)\n"
     ]
    }
   ],
   "source": [
    "xgb_regressor = xgb.XGBRegressor(objective='reg:linear', verbosity=0, n_jobs=-1, min_child_weight=0.1)\n",
    "print(xgb_regressor)\n",
    "\n",
    "# xgb_regressor.fit()"
   ]
  },
  {
   "cell_type": "code",
   "execution_count": null,
   "metadata": {
    "cell_id": "00035-99e72604-efe9-492a-ab34-902847ab9463",
    "collapsed": true,
    "deepnote_cell_type": "code",
    "deepnote_to_be_reexecuted": false,
    "execution": {
     "iopub.execute_input": "2020-12-10T21:50:55.021177Z",
     "iopub.status.busy": "2020-12-10T21:50:55.020047Z",
     "iopub.status.idle": "2020-12-10T21:51:02.069984Z",
     "shell.execute_reply": "2020-12-10T21:51:02.069242Z"
    },
    "execution_millis": 62004,
    "execution_start": 1610449171254,
    "output_cleared": false,
    "papermill": {
     "duration": 7.099722,
     "end_time": "2020-12-10T21:51:02.070126",
     "exception": false,
     "start_time": "2020-12-10T21:50:54.970404",
     "status": "completed"
    },
    "source_hash": "ef4b88b1",
    "tags": []
   },
   "outputs": [],
   "source": [
    "xgb_regressor.fit(X_train, y_train)\n",
    "\n",
    "y_pred_xg = xgb_regressor.predict(X_test)"
   ]
  },
  {
   "cell_type": "code",
   "execution_count": null,
   "metadata": {
    "cell_id": "00036-2ef169e6-254b-4d12-8dec-da5af779dd80",
    "deepnote_cell_type": "code",
    "deepnote_to_be_reexecuted": false,
    "execution": {
     "iopub.execute_input": "2020-12-10T21:51:02.164563Z",
     "iopub.status.busy": "2020-12-10T21:51:02.163646Z",
     "iopub.status.idle": "2020-12-10T21:51:02.168172Z",
     "shell.execute_reply": "2020-12-10T21:51:02.168837Z"
    },
    "execution_millis": 3,
    "execution_start": 1610449233302,
    "output_cleared": false,
    "papermill": {
     "duration": 0.054733,
     "end_time": "2020-12-10T21:51:02.168994",
     "exception": false,
     "start_time": "2020-12-10T21:51:02.114261",
     "status": "completed"
    },
    "source_hash": "e63bd331",
    "tags": []
   },
   "outputs": [
    {
     "name": "stdout",
     "output_type": "stream",
     "text": [
      "Mean Squared Error (MSE) for XGBoost is: 17.430740788505084\n"
     ]
    }
   ],
   "source": [
    "mse=mean_squared_error(y_test, y_pred_xg)\n",
    "\n",
    "print('Mean Squared Error (MSE) for XGBoost is: {}'.format(mse))\n",
    "\n"
   ]
  },
  {
   "cell_type": "markdown",
   "metadata": {
    "cell_id": "00033-9a18a70e-5958-4724-a9e7-68b4a5ab3b51",
    "deepnote_cell_type": "markdown",
    "output_cleared": false,
    "tags": []
   },
   "source": [
    "## Comparison of all models\n",
    "Comparing the inherently interpretable Linear Regression model, XGBoost model and the predictions made by Spanish TSO Red Electric España. "
   ]
  },
  {
   "cell_type": "code",
   "execution_count": null,
   "metadata": {
    "cell_id": "00038-8869abe8-4faa-44ed-bf12-e2ab94e6a7d7",
    "deepnote_cell_type": "code",
    "deepnote_to_be_reexecuted": false,
    "execution": {
     "iopub.execute_input": "2020-12-10T21:51:02.396109Z",
     "iopub.status.busy": "2020-12-10T21:51:02.382594Z",
     "iopub.status.idle": "2020-12-10T21:51:02.590527Z",
     "shell.execute_reply": "2020-12-10T21:51:02.589884Z"
    },
    "execution_millis": 248,
    "execution_start": 1610449233309,
    "output_cleared": false,
    "papermill": {
     "duration": 0.261616,
     "end_time": "2020-12-10T21:51:02.590650",
     "exception": false,
     "start_time": "2020-12-10T21:51:02.329034",
     "status": "completed"
    },
    "source_hash": "197b29ec",
    "tags": []
   },
   "outputs": [
    {
     "data": {
      "image/png": "[encoded data removed]",
      "text/plain": [
       "<Figure size 648x432 with 1 Axes>"
      ]
     },
     "metadata": {
      "needs_background": "light"
     },
     "output_type": "display_data"
    }
   ],
   "source": [
    "\n",
    "diffs_xg = y_test - y_pred_xg\n",
    "diffs_tso = y_test - TSO_pred\n",
    "diffs_LR = y_test - y_pred_lr\n",
    "\n",
    "data_to_plot = [diffs_xg, diffs_LR, diffs_tso]\n",
    "\n",
    "# Create a figure instance\n",
    "fig = plt.figure(1, figsize=(9, 6))\n",
    "\n",
    "# Create an axes instance\n",
    "ax = fig.add_subplot(111)\n",
    "\n",
    "ax.set_title('Distribution of Residuals for XGBoost, Linear Regression and TSO Pred')\n",
    "\n",
    "labels = ['XGBoost', 'Linear Regression', 'TSO']\n",
    "\n",
    "# Create the boxplot\n",
    "bp = ax.boxplot(data_to_plot, labels=labels, showfliers=False)"
   ]
  },
  {
   "cell_type": "markdown",
   "metadata": {
    "cell_id": "00041-3b1271b2-0340-412b-9eef-0b20e85510aa",
    "deepnote_cell_type": "markdown",
    "tags": []
   },
   "source": [
    "## Model Agnosting Interpretation\n",
    "\n",
    "### Chosen model: XGB Regressor"
   ]
  },
  {
   "cell_type": "code",
   "execution_count": null,
   "metadata": {
    "cell_id": "00042-c0134b52-bfba-4436-9f7b-882a9cb946c5",
    "deepnote_cell_type": "code",
    "deepnote_to_be_reexecuted": false,
    "execution_millis": 1910,
    "execution_start": 1610449233565,
    "source_hash": "c0639cdd",
    "tags": []
   },
   "outputs": [
    {
     "name": "stdout",
     "output_type": "stream",
     "text": [
      "\r\n",
      "System:\r\n",
      "    python: 3.7.9 (default, Oct 13 2020, 21:10:49)  [GCC 8.3.0]\r\n",
      "executable: /opt/venv/bin/python\r\n",
      "   machine: Linux-4.14.209-160.335.amzn2.x86_64-x86_64-with-debian-10.6\r\n",
      "\r\n",
      "Python dependencies:\r\n",
      "          pip: 20.2.4\r\n",
      "   setuptools: 50.3.2\r\n",
      "      sklearn: 0.24.0\r\n",
      "        numpy: 1.19.4\r\n",
      "        scipy: 1.5.4\r\n",
      "       Cython: None\r\n",
      "       pandas: 1.0.5\r\n",
      "   matplotlib: 3.3.3\r\n",
      "       joblib: 0.17.0\r\n",
      "threadpoolctl: 2.1.0\r\n",
      "\r\n",
      "Built with OpenMP: True\r\n"
     ]
    }
   ],
   "source": [
    "!python -c \"import sklearn; sklearn.show_versions()\""
   ]
  },
  {
   "cell_type": "code",
   "execution_count": null,
   "metadata": {
    "cell_id": "00042-93f51b93-85e7-48c4-998b-0d87831c2688",
    "collapsed": true,
    "deepnote_cell_type": "code",
    "deepnote_to_be_reexecuted": false,
    "execution_millis": 88,
    "execution_start": 1610449290517,
    "source_hash": "55c2e384",
    "tags": []
   },
   "outputs": [],
   "source": [
    "#Interpretation related Librarires\n",
    "from sklearn.inspection import permutation_importance, plot_partial_dependence\n",
    "from sklearn_gbmi import *"
   ]
  },
  {
   "cell_type": "markdown",
   "metadata": {
    "cell_id": "00043-c06e47ef-bb61-4f0f-890a-7a96bcca02cd",
    "deepnote_cell_type": "markdown",
    "tags": []
   },
   "source": [
    "### 1. Which features are most important? \n",
    "Method used: Permutation Feature Importance\n",
    "\n",
    "https://scikit-learn.org/stable/modules/permutation_importance.html"
   ]
  },
  {
   "cell_type": "code",
   "execution_count": null,
   "metadata": {
    "cell_id": "00044-64a758ef-78a0-4e89-9e63-5c3aa028201c",
    "deepnote_cell_type": "code",
    "deepnote_to_be_reexecuted": false,
    "execution_millis": 119158,
    "execution_start": 1610448700316,
    "source_hash": "1f4a9e15",
    "tags": []
   },
   "outputs": [
    {
     "name": "stdout",
     "output_type": "stream",
     "text": [
      "R^2 score of the model on validation data:  0.9076987103589038\n",
      "\n",
      "price day ahead0.860 +/- 0.014\n",
      "month   0.373 +/- 0.007\n",
      "generation hydro run-of-river and poundage0.101 +/- 0.003\n",
      "hour    0.082 +/- 0.003\n",
      "wind_speed0.046 +/- 0.002\n",
      "pressure0.043 +/- 0.001\n",
      "generation fossil hard coal0.041 +/- 0.002\n",
      "generation nuclear0.035 +/- 0.001\n",
      "generation biomass0.026 +/- 0.001\n",
      "generation waste0.026 +/- 0.001\n",
      "generation fossil brown coal/lignite0.020 +/- 0.001\n",
      "generation other renewable0.018 +/- 0.001\n",
      "temp    0.015 +/- 0.001\n",
      "forecast wind onshore day ahead0.014 +/- 0.001\n",
      "generation other0.013 +/- 0.001\n",
      "generation fossil oil0.012 +/- 0.001\n",
      "generation fossil gas0.011 +/- 0.001\n",
      "total load actual0.011 +/- 0.001\n",
      "generation hydro water reservoir0.010 +/- 0.001\n",
      "generation solar0.009 +/- 0.001\n",
      "temp_max0.009 +/- 0.001\n",
      "temp_min0.009 +/- 0.001\n",
      "total load forecast0.008 +/- 0.001\n",
      "forecast solar day ahead0.007 +/- 0.001\n",
      "generation wind onshore0.007 +/- 0.001\n",
      "generation hydro pumped storage consumption0.006 +/- 0.001\n",
      "humidity0.004 +/- 0.000\n",
      "clouds_all0.002 +/- 0.000\n",
      "wind_deg0.002 +/- 0.000\n",
      "rain_1h 0.001 +/- 0.000\n"
     ]
    }
   ],
   "source": [
    "print(\"R^2 score of the model on validation data: \", xgb_regressor.score(X_val, y_val))\n",
    "print()\n",
    "r = permutation_importance(xgb_regressor, X_val, y_val, n_repeats=30, random_state=0)\n",
    "\n",
    "for i in r.importances_mean.argsort()[::-1]:\n",
    "    if r.importances_mean[i] - 2 * r.importances_std[i] > 0:\n",
    "        print(f\"{usable_features[i]:<8}\"\n",
    "              f\"{r.importances_mean[i]:.3f}\"\n",
    "              f\" +/- {r.importances_std[i]:.3f}\")"
   ]
  },
  {
   "cell_type": "markdown",
   "metadata": {
    "cell_id": "00044-a5c6096c-9e44-4093-a857-a4fd7de074ab",
    "deepnote_cell_type": "markdown",
    "tags": []
   },
   "source": [
    "### 2. Does temperature interact with the features regarding the generation of fossil features? If so, what is the extent of interaction?\n",
    "\n",
    "Method Used: H-statistic, feature importance\n",
    "\n",
    "Documentation: https://pypi.org/project/sklearn-gbmi/\n",
    "\n",
    "Example: https://github.com/ralphhaygood/sklearn-gbmi/blob/master/example.ipynb"
   ]
  },
  {
   "cell_type": "code",
   "execution_count": null,
   "metadata": {
    "cell_id": "00046-ccb10625-99c2-459d-b5ac-e465232485dd",
    "deepnote_cell_type": "code",
    "deepnote_to_be_reexecuted": false,
    "execution_millis": 0,
    "execution_start": 1610447876825,
    "source_hash": "a8317b32",
    "tags": []
   },
   "outputs": [
    {
     "ename": "TypeError",
     "evalue": "'<' not supported between instances of 'NoneType' and 'int'",
     "output_type": "error",
     "traceback": [
      "\u001b[0;31m---------------------------------------------------------------------------\u001b[0m",
      "\u001b[0;31mTypeError\u001b[0m                                 Traceback (most recent call last)",
      "\u001b[0;32m<ipython-input-58-2ed014257a8c>\u001b[0m in \u001b[0;36m<module>\u001b[0;34m\u001b[0m\n\u001b[0;32m----> 1\u001b[0;31m \u001b[0mh_all_pairs\u001b[0m\u001b[0;34m(\u001b[0m\u001b[0mxgb_regressor\u001b[0m\u001b[0;34m,\u001b[0m \u001b[0mX_train\u001b[0m\u001b[0;34m)\u001b[0m\u001b[0;34m\u001b[0m\u001b[0;34m\u001b[0m\u001b[0m\n\u001b[0m",
      "\u001b[0;32m/opt/venv/lib/python3.7/site-packages/sklearn_gbmi/sklearn_gbmi.py\u001b[0m in \u001b[0;36mh_all_pairs\u001b[0;34m(gbm, array_or_frame, indices_or_columns)\u001b[0m\n\u001b[1;32m    146\u001b[0m     \"\"\"\n\u001b[1;32m    147\u001b[0m \u001b[0;34m\u001b[0m\u001b[0m\n\u001b[0;32m--> 148\u001b[0;31m     \u001b[0;32mif\u001b[0m \u001b[0mgbm\u001b[0m\u001b[0;34m.\u001b[0m\u001b[0mmax_depth\u001b[0m \u001b[0;34m<\u001b[0m \u001b[0;36m2\u001b[0m\u001b[0;34m:\u001b[0m\u001b[0;34m\u001b[0m\u001b[0;34m\u001b[0m\u001b[0m\n\u001b[0m\u001b[1;32m    149\u001b[0m         \u001b[0;32mraise\u001b[0m \u001b[0mException\u001b[0m\u001b[0;34m(\u001b[0m\u001b[0;34m\"gbm.max_depth must be at least 2.\"\u001b[0m\u001b[0;34m)\u001b[0m\u001b[0;34m\u001b[0m\u001b[0;34m\u001b[0m\u001b[0m\n\u001b[1;32m    150\u001b[0m     \u001b[0mcheck_args_contd\u001b[0m\u001b[0;34m(\u001b[0m\u001b[0marray_or_frame\u001b[0m\u001b[0;34m,\u001b[0m \u001b[0mindices_or_columns\u001b[0m\u001b[0;34m)\u001b[0m\u001b[0;34m\u001b[0m\u001b[0;34m\u001b[0m\u001b[0m\n",
      "\u001b[0;31mTypeError\u001b[0m: '<' not supported between instances of 'NoneType' and 'int'"
     ]
    }
   ],
   "source": [
    "h_all_pairs(xgb_regressor, X_train)"
   ]
  },
  {
   "cell_type": "markdown",
   "metadata": {
    "cell_id": "00045-6303a84a-c13e-4480-b1e7-7be0c70b0d51",
    "deepnote_cell_type": "markdown",
    "tags": []
   },
   "source": [
    "### 3. How would the price actual be affected on average by the generation solar/humidity? \n",
    "\n",
    "Method used: Partial Dependence Plot and/or Accumulated Local Effects (ALE)\n",
    "\n",
    "Documentation: https://scikit-learn.org/stable/modules/partial_dependence.html"
   ]
  },
  {
   "cell_type": "code",
   "execution_count": null,
   "metadata": {
    "cell_id": "00048-89f8a51d-d1b0-4d72-abca-59a814b9684c",
    "deepnote_cell_type": "code",
    "deepnote_to_be_reexecuted": false,
    "execution_millis": 0,
    "execution_start": 1610449327185,
    "source_hash": "960d207a",
    "tags": []
   },
   "outputs": [
    {
     "name": "stdout",
     "output_type": "stream",
     "text": [
      "[16, 29]\n"
     ]
    }
   ],
   "source": [
    "input_feat = ['generation solar', 'humidity']\n",
    "def get_indices_of_features(input_feat):\n",
    "    return [usable_features.index(i) for i in input_feat]# print(usable_features.index('humrdity'))\n",
    "\n",
    "features = get_indices_of_features(input_feat)\n",
    "print(features)"
   ]
  },
  {
   "cell_type": "code",
   "execution_count": null,
   "metadata": {
    "cell_id": "00048-4690b57f-d716-42b7-9a2c-3a31289b4533",
    "deepnote_cell_type": "code",
    "deepnote_to_be_reexecuted": false,
    "execution_millis": 33710,
    "execution_start": 1610447889426,
    "source_hash": "140bfcf1",
    "tags": []
   },
   "outputs": [
    {
     "data": {
      "text/plain": [
       "<sklearn.inspection._plot.partial_dependence.PartialDependenceDisplay at 0x7fae47fd4190>"
      ]
     },
     "execution_count": 60,
     "metadata": {},
     "output_type": "execute_result"
    },
    {
     "data": {
      "image/png": "[encoded data removed]",
      "text/plain": [
       "<Figure size 432x288 with 3 Axes>"
      ]
     },
     "metadata": {
      "needs_background": "light"
     },
     "output_type": "display_data"
    }
   ],
   "source": [
    "plot_partial_dependence(xgb_regressor, X_train, features)"
   ]
  },
  {
   "cell_type": "markdown",
   "metadata": {
    "cell_id": "00046-faf3e5ac-3f7c-4d0f-83c0-e760797fc8f4",
    "deepnote_cell_type": "markdown",
    "tags": []
   },
   "source": [
    "### 4. How would the individual data instances’ price actual react to change in humidity/wind/temperature?\n",
    "\n",
    "\n",
    "Documentation: https://scikit-learn.org/stable/modules/partial_dependence.html"
   ]
  },
  {
   "cell_type": "code",
   "execution_count": null,
   "metadata": {
    "cell_id": "00051-c43fdf84-8264-4c9d-a0d4-d64926450586",
    "deepnote_cell_type": "code",
    "deepnote_to_be_reexecuted": false,
    "execution_millis": 0,
    "execution_start": 1610449308282,
    "source_hash": "14930aa1",
    "tags": []
   },
   "outputs": [
    {
     "name": "stdout",
     "output_type": "stream",
     "text": [
      "['generation biomass', 'generation fossil brown coal/lignite', 'generation fossil coal-derived gas', 'generation fossil gas', 'generation fossil hard coal', 'generation fossil oil', 'generation fossil oil shale', 'generation fossil peat', 'generation geothermal', 'generation hydro pumped storage consumption', 'generation hydro run-of-river and poundage', 'generation hydro water reservoir', 'generation marine', 'generation nuclear', 'generation other', 'generation other renewable', 'generation solar', 'generation waste', 'generation wind offshore', 'generation wind onshore', 'forecast solar day ahead', 'forecast wind onshore day ahead', 'total load forecast', 'total load actual', 'price day ahead', 'temp', 'temp_min', 'temp_max', 'pressure', 'humidity', 'wind_speed', 'wind_deg', 'rain_1h', 'rain_3h', 'snow_3h', 'clouds_all', 'hour', 'month']\n"
     ]
    }
   ],
   "source": [
    "print(usable_features)"
   ]
  },
  {
   "cell_type": "code",
   "execution_count": null,
   "metadata": {
    "cell_id": "00051-88934143-af21-4f12-a58a-4f70f67136eb",
    "deepnote_cell_type": "code",
    "deepnote_to_be_reexecuted": false,
    "execution_millis": 37039,
    "execution_start": 1610449518213,
    "source_hash": "b5847acb",
    "tags": []
   },
   "outputs": [
    {
     "data": {
      "text/plain": [
       "<sklearn.inspection._plot.partial_dependence.PartialDependenceDisplay at 0x7fe129bed8d0>"
      ]
     },
     "execution_count": 38,
     "metadata": {},
     "output_type": "execute_result"
    },
    {
     "data": {
      "image/png": "[encoded data removed]",
      "text/plain": [
       "<Figure size 432x288 with 4 Axes>"
      ]
     },
     "metadata": {
      "needs_background": "light"
     },
     "output_type": "display_data"
    }
   ],
   "source": [
    "input_feat = ['humidity', 'wind_speed', 'temp']\n",
    "features = get_indices_of_features(input_feat)\n",
    "\n",
    "plot_partial_dependence(xgb_regressor, X_train, features, kind='both', subsample=100)\n",
    "# plot_partial_dependence(xgb_regressor, X_train, features, kind=\"both\", method='brute')\n",
    "# plot_partial_dependence()\n"
   ]
  },
  {
   "cell_type": "markdown",
   "metadata": {
    "cell_id": "00047-485baa0a-a852-4b05-8909-44b742929fd5",
    "deepnote_cell_type": "markdown",
    "tags": []
   },
   "source": [
    "### 5. At least how much should the generation biomass change to have the price actual for observation z below the mean? \n",
    "\n",
    "Possible methods:\n",
    "\n",
    "1. https://github.com/amirhk/mace\n",
    "2. https://github.com/SeldonIO/alibi"
   ]
  },
  {
   "cell_type": "markdown",
   "metadata": {
    "cell_id": "00048-ab79b006-de49-4a53-bcf5-eb4d6a91f2a4",
    "deepnote_cell_type": "markdown",
    "tags": []
   },
   "source": [
    "### 6. Do the clouds have an impact on the generated solar? Are they useful for predicting actual price?"
   ]
  },
  {
   "cell_type": "markdown",
   "metadata": {
    "cell_id": "00049-db73f81b-b398-45d6-b1de-29165359c13b",
    "deepnote_cell_type": "markdown",
    "tags": []
   },
   "source": [
    "### 7. Does the weather in different cities impact total load actual differently?"
   ]
  },
  {
   "cell_type": "markdown",
   "metadata": {
    "cell_id": "00050-e5c76291-8d39-4db1-ab8d-f5123d80fcf1",
    "deepnote_cell_type": "markdown",
    "tags": []
   },
   "source": [
    "### 8. Can we reduce the generation fossil (all combined) for the price actual to remain the same?\n",
    "\n",
    "Documentation: https://github.com/marcotcr/anchor"
   ]
  },
  {
   "cell_type": "markdown",
   "metadata": {
    "cell_id": "00051-2fd56d34-4afd-42fe-a47d-d1343e636eec",
    "deepnote_cell_type": "markdown",
    "tags": []
   },
   "source": []
  },
  {
   "cell_type": "markdown",
   "metadata": {
    "cell_id": "00059-26608cd6-04a6-46c1-aa93-ecf805631aec",
    "deepnote_cell_type": "markdown",
    "tags": []
   },
   "source": []
  }
 ],
 "metadata": {
  "deepnote_execution_queue": [],
  "deepnote_notebook_id": "eeeb78a8-4c3e-4437-b5b4-581b1fd6f593",
  "kernelspec": {
   "display_name": "Python 3",
   "language": "python",
   "name": "python3"
  },
  "language_info": {
   "codemirror_mode": {
    "name": "ipython",
    "version": 3
   },
   "file_extension": ".py",
   "mimetype": "text/x-python",
   "name": "python",
   "nbconvert_exporter": "python",
   "pygments_lexer": "ipython3",
   "version": "3.5.0"
  },
  "papermill": {
   "duration": 20.207014,
   "end_time": "2020-12-10T21:51:02.837892",
   "environment_variables": {},
   "exception": null,
   "input_path": "__notebook__.ipynb",
   "output_path": "__notebook__.ipynb",
   "parameters": {},
   "start_time": "2020-12-10T21:50:42.630878",
   "version": "2.1.0"
  }
 },
 "nbformat": 4,
 "nbformat_minor": 4
}
